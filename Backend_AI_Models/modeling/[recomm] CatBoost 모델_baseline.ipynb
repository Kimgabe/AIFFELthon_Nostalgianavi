{
 "cells": [
  {
   "cell_type": "markdown",
   "id": "f756e8e7",
   "metadata": {},
   "source": [
    "# 작업개요\n",
    "\n",
    "- TourAPI의 관광지 데이터가 전체 유형(관광지, 식당, 쇼핑, 레포츠, 여행 코스 등) 포함 약 5.3만개로 POI 대상지가 매우 감소\n",
    "- 이에 따라 관광로그 데이터를 전국구로 수집할 필요성 느낌\n",
    "- AI Hub의 관광로그 데이터 4종(수도권, 동부, 서부, 제주/도서지역) 을 병합해 하나의 데이터셋으로 생성 필요\n",
    "- 생성된 데이터셋에 대한 간단한 EDA 진행\n",
    "\n",
    "### 작업 목표\n",
    "- AI Hub 관광로그 데이터 4종 병합\n",
    "- 병합된 데이터셋에 대한 간단한 EDA\n",
    "- 불필요 데이터 전처리\n",
    "- **추천모델 학습용 데이터셋 확보**"
   ]
  },
  {
   "cell_type": "code",
   "execution_count": null,
   "id": "71609fd3",
   "metadata": {
    "ExecuteTime": {
     "end_time": "2024-04-14T17:53:20.245791Z",
     "start_time": "2024-04-14T17:53:19.936043Z"
    }
   },
   "outputs": [],
   "source": [
    "import pandas as pd\n",
    "import numpy as np\n",
    "import random\n",
    "\n",
    "# 출력할 최대 열 수 설정\n",
    "pd.set_option('display.max_columns', None)\n",
    "\n",
    "# 출력할 최대 행 수 설정\n",
    "pd.set_option('display.max_rows', None)\n",
    "\n",
    "import warnings\n",
    "\n",
    "# 모든 경고 무시\n",
    "warnings.filterwarnings(\"ignore\")"
   ]
  },
  {
   "cell_type": "markdown",
   "id": "ee150cf2",
   "metadata": {},
   "source": [
    "# 데이터 전처리"
   ]
  },
  {
   "cell_type": "markdown",
   "id": "996f454a",
   "metadata": {},
   "source": [
    "### 카테고리 데이터 정보 테이블\n",
    "\n",
    "- 일부 데이터에 입력된 카테고리컬 데이터의 의미가 담긴 테이블"
   ]
  },
  {
   "cell_type": "code",
   "execution_count": null,
   "id": "7091bf2a",
   "metadata": {
    "ExecuteTime": {
     "end_time": "2024-04-14T17:53:20.291426Z",
     "start_time": "2024-04-14T17:53:20.247789Z"
    }
   },
   "outputs": [],
   "source": [
    "TC_CODEA = pd.read_csv(\n",
    "    '../data/travel_log/277.국내 여행로그 데이터(수도권)/Training/tc_codea_코드A.csv', encoding='utf-8')\n",
    "TC_CODEB = pd.read_csv(\n",
    "    '../data/travel_log/277.국내 여행로그 데이터(수도권)/Training/tc_codeb_코드B.csv', encoding='utf-8')\n",
    "\n",
    "# 코드_a의 cd_nm을 'code_nm_a'로 이름을 변경하여 복사\n",
    "code_a_copy = TC_CODEA.rename(\n",
    "    columns={'cd_nm': 'code_nm_a', 'cd_memo': 'cd_memo_a'}).copy()\n",
    "\n",
    "# 코드_b의 cd_nm을 'code_nm_b'로 이름을 변경하여 복사\n",
    "code_b_copy = TC_CODEB.rename(\n",
    "    columns={'cd_nm': 'code_nm_b', 'cd_memo': 'cd_memo_b'}).copy()\n",
    "\n",
    "# 코드_a와 코드_b 데이터프레임을 cd_a를 기준으로 병합\n",
    "merged_df = pd.merge(code_b_copy, code_a_copy, on='cd_a', how='left')\n",
    "\n",
    "# 코드 값에 따라 cd_nm_a, cd_nm_b, cd_a, cd_b를 그룹바이하여 출력하는 작업\n",
    "basic_code = merged_df.groupby('cd_a').apply(\n",
    "    lambda x: x[['cd_b', 'code_nm_a', 'code_nm_b']].reset_index(drop=True))\n",
    "# 결과 출력\n",
    "basic_code.head()"
   ]
  },
  {
   "cell_type": "markdown",
   "id": "d8dd4d60",
   "metadata": {},
   "source": [
    "## 데이터 불러오기"
   ]
  },
  {
   "cell_type": "code",
   "execution_count": null,
   "id": "0f876e79",
   "metadata": {
    "ExecuteTime": {
     "end_time": "2024-04-14T17:53:21.006163Z",
     "start_time": "2024-04-14T17:53:20.294491Z"
    },
    "scrolled": false
   },
   "outputs": [],
   "source": [
    "import pandas as pd\n",
    "import os\n",
    "\n",
    "# 기본 경로 설정\n",
    "basic_path = '../data/travel_log'\n",
    "regions = ['277.국내 여행로그 데이터(수도권)', '278.국내 여행로그 데이터(동부권)', '279.국내 여행로그 데이터(서부권)', '280.국내 여행로그 데이터(제주도 및 도서지역)']\n",
    "suffixes = ['A', 'B', 'C', 'D']\n",
    "\n",
    "# 파일명 패턴\n",
    "file_patterns = ['tn_travel_여행', 'tn_traveller_master_여행객 Master', 'tn_visit_area_info_방문지정보']\n",
    "\n",
    "# 각 DataFrame을 저장할 딕셔너리 생성\n",
    "dfs = {pattern: [] for pattern in file_patterns}\n",
    "\n",
    "# 지역별, 파일 패턴별로 데이터 로드 및 병합\n",
    "for region, suffix in zip(regions, suffixes):\n",
    "    for pattern in file_patterns:\n",
    "        files = [\n",
    "            os.path.join(basic_path, region, 'Training', f'{pattern}_{suffix}.csv'),\n",
    "            os.path.join(basic_path, region, 'Validation', f'{pattern}_{suffix}.csv')\n",
    "        ]\n",
    "        # 파일 병합\n",
    "        df_concat = pd.concat([pd.read_csv(file) for file in files], axis=0)\n",
    "        dfs[pattern].append(df_concat)\n",
    "\n",
    "# 최종적으로 각 패턴별로 데이터 병합하여 3개의 DataFrame 생성\n",
    "travel = pd.concat(dfs['tn_travel_여행'], axis=0)\n",
    "travel_master = pd.concat(dfs['tn_traveller_master_여행객 Master'], axis=0)\n",
    "visit_area = pd.concat(dfs['tn_visit_area_info_방문지정보'], axis=0)\n"
   ]
  },
  {
   "cell_type": "markdown",
   "id": "21353233",
   "metadata": {},
   "source": [
    "### 여행정보"
   ]
  },
  {
   "cell_type": "code",
   "execution_count": null,
   "id": "627ea99f",
   "metadata": {
    "ExecuteTime": {
     "end_time": "2024-04-14T17:53:21.085022Z",
     "start_time": "2024-04-14T17:53:21.009671Z"
    }
   },
   "outputs": [],
   "source": [
    "display(travel.describe())\n",
    "display(travel.info())\n",
    "travel.head()"
   ]
  },
  {
   "cell_type": "markdown",
   "id": "fdf5d631",
   "metadata": {},
   "source": [
    "### 여행객 정보"
   ]
  },
  {
   "cell_type": "code",
   "execution_count": null,
   "id": "e310fcda",
   "metadata": {
    "ExecuteTime": {
     "end_time": "2024-04-14T17:53:21.238628Z",
     "start_time": "2024-04-14T17:53:21.087525Z"
    }
   },
   "outputs": [],
   "source": [
    "display(travel_master.describe())\n",
    "display(travel_master.info())\n",
    "travel_master.head()"
   ]
  },
  {
   "cell_type": "markdown",
   "id": "3c5ad699",
   "metadata": {},
   "source": [
    "![](https://i.imgur.com/2dEDL24.png)"
   ]
  },
  {
   "cell_type": "code",
   "execution_count": null,
   "id": "333c0cb2",
   "metadata": {
    "ExecuteTime": {
     "end_time": "2024-04-14T17:53:21.258726Z",
     "start_time": "2024-04-14T17:53:21.241645Z"
    }
   },
   "outputs": [],
   "source": [
    "# TRAVEL_STYL_1부터 TRAVEL_STYL_8까지의 컬럼 이름 리스트 생성\n",
    "travel_style_columns = [f'TRAVEL_STYL_{i}' for i in range(1, 9)]\n",
    "\n",
    "# 각 컬럼별 unique 값 출력\n",
    "for column in travel_style_columns:\n",
    "    unique_values = sorted(travel_master[column].unique())\n",
    "    print(f'{column} unique values: {unique_values}')"
   ]
  },
  {
   "cell_type": "markdown",
   "id": "60d298d2",
   "metadata": {},
   "source": [
    "- 각 스타일별로 1에 가까울수록 해당 스타일을 선호하지 않고, 7에 가까울수록 해당 스타일을 선호하는 것"
   ]
  },
  {
   "cell_type": "markdown",
   "id": "ec6004cb",
   "metadata": {},
   "source": [
    "### 방문지 정보"
   ]
  },
  {
   "cell_type": "code",
   "execution_count": null,
   "id": "d31057e8",
   "metadata": {
    "ExecuteTime": {
     "end_time": "2024-04-14T17:53:21.497187Z",
     "start_time": "2024-04-14T17:53:21.266265Z"
    }
   },
   "outputs": [],
   "source": [
    "display(visit_area.describe())\n",
    "display(visit_area.info())\n",
    "visit_area.head()"
   ]
  },
  {
   "cell_type": "markdown",
   "id": "f7d0a540",
   "metadata": {},
   "source": [
    "### 여행지가 아닌 데이터 필터링\n",
    "\n",
    "- `visit_area` 테이블에서 `VISIT_AREA_NM` 을 보면 일부 여행기록은 `집`, `병점역 1호선` 등 관광지가 아닌 데이터들이 다수 포함되어있음.\n",
    "- 여행의 동선을 기록한 데이터라 출발지, 중간 휴식지, 경유지 등이 포함되어 있는 것\n",
    "- 따라서 여행지가 아닌데 이터들을 필터링할 필요가 있음\n",
    "- 카테고리 데이터 정보테이블을 기반으로 관광지가 아닌 데이터들을 필터링할 수 있음\n",
    "- `VISIT_AREA_TYPE_CD` 은 방문지 유형에 대한 코드로 카테고리 데이터 정보테이블을 통해 각 코드가 어떤 유형인지 파악할 수 있음"
   ]
  },
  {
   "cell_type": "code",
   "execution_count": null,
   "id": "f67daf69",
   "metadata": {
    "ExecuteTime": {
     "end_time": "2024-04-14T17:53:21.513272Z",
     "start_time": "2024-04-14T17:53:21.498186Z"
    }
   },
   "outputs": [],
   "source": [
    "# 여행지가 아닌 데이터 필터링 위한 기준표 출력\n",
    "TRAVEL_VISIT_group = basic_code.loc['VIS']\n",
    "TRAVEL_VISIT_group"
   ]
  },
  {
   "cell_type": "markdown",
   "id": "2e6bc5ff",
   "metadata": {},
   "source": [
    "- 1번부터 8번, 13번은 관광지로 포함시킬 수 있으나 그 외 지역은 관광지로 보기 어려움\n",
    "- 따라서 visit_area 에서 1~8, 13을 제외한 나머지 코드는 drop하여 필터링을 진행"
   ]
  },
  {
   "cell_type": "code",
   "execution_count": null,
   "id": "f2bbbaf1",
   "metadata": {
    "ExecuteTime": {
     "end_time": "2024-04-14T17:53:21.574913Z",
     "start_time": "2024-04-14T17:53:21.516270Z"
    }
   },
   "outputs": [],
   "source": [
    "# VISIT_AREA_TYPE_CD 열의 값이 1, 2, 3, 4, 5, 6, 7, 8, 13인 행만 추출\n",
    "valid_values = [1, 2, 3, 4, 5, 6, 7, 8, 13]\n",
    "visit_area_filtered = visit_area[visit_area['VISIT_AREA_TYPE_CD'].isin(valid_values)]\n",
    "visit_area_filtered.info()\n",
    "\n",
    "print(f' \\n 필터링된 VISIT_AREA_TYPE_CD의 고유 코드 리스트는 : {sorted(visit_area_filtered[\"VISIT_AREA_TYPE_CD\"].unique())}')"
   ]
  },
  {
   "cell_type": "markdown",
   "id": "8ccc2f1e",
   "metadata": {},
   "source": [
    "## 데이터 병합"
   ]
  },
  {
   "cell_type": "code",
   "execution_count": null,
   "id": "e81bd8fc",
   "metadata": {
    "ExecuteTime": {
     "end_time": "2024-04-14T17:53:21.865173Z",
     "start_time": "2024-04-14T17:53:21.580424Z"
    },
    "scrolled": true
   },
   "outputs": [],
   "source": [
    "df = pd.merge(visit_area_filtered,  travel, on='TRAVEL_ID', how='left')\n",
    "travel_log = pd.merge(df, travel_master, on='TRAVELER_ID', how='left')\n",
    "\n",
    "display(travel_log.describe())\n",
    "display(travel_log.info())\n",
    "travel_log.head()"
   ]
  },
  {
   "cell_type": "code",
   "execution_count": null,
   "id": "1964b49b",
   "metadata": {
    "ExecuteTime": {
     "end_time": "2024-04-14T17:53:21.880622Z",
     "start_time": "2024-04-14T17:53:21.867676Z"
    }
   },
   "outputs": [],
   "source": [
    "travel_log.columns"
   ]
  },
  {
   "cell_type": "code",
   "execution_count": null,
   "id": "7a69f78a",
   "metadata": {
    "ExecuteTime": {
     "end_time": "2024-04-14T17:53:21.895662Z",
     "start_time": "2024-04-14T17:53:21.883136Z"
    }
   },
   "outputs": [],
   "source": [
    "travel_log.rename(columns={'DGSTFN': 'STARS'}, inplace=True)\n",
    "travel_log.rename(columns={'VISIT_START_YMD': 'TRAVEL_YMD'}, inplace=True)"
   ]
  },
  {
   "cell_type": "code",
   "execution_count": null,
   "id": "23fd6597",
   "metadata": {
    "ExecuteTime": {
     "end_time": "2024-04-14T17:53:21.972464Z",
     "start_time": "2024-04-14T17:53:21.897178Z"
    }
   },
   "outputs": [],
   "source": [
    "db_travel = travel_log[['TRAVEL_ID', 'TRAVEL_NM', 'TRAVELER_ID', 'VISIT_AREA_ID', 'VISIT_AREA_NM', 'VISIT_AREA_TYPE_CD',\n",
    "                                            'TRAVEL_YMD','POI_ID', 'POI_NM', 'X_COORD', 'Y_COORD',\n",
    "                                            'SGG_CD', 'ROAD_NM_CD','ROAD_NM_ADDR', 'LOTNO_CD', 'LOTNO_ADDR', \n",
    "                                            'REVISIT_INTENTION', 'RCMDTN_INTENTION', 'TRAVEL_MISSION_CHECK',\n",
    "                                            'GENDER', 'AGE_GRP', \n",
    "                                            'TRAVEL_STYL_1', 'TRAVEL_STYL_2', 'TRAVEL_STYL_3', 'TRAVEL_STYL_4', 'TRAVEL_STYL_5',\n",
    "                                            'TRAVEL_STYL_6', 'TRAVEL_STYL_7', 'TRAVEL_STYL_8', \n",
    "                                            'TRAVEL_MOTIVE_1', 'TRAVEL_MOTIVE_2', 'TRAVEL_MOTIVE_3'                        \n",
    "                                            ,'STARS'\n",
    "                                           ]].copy()\n",
    "\n",
    "db_travel.info()"
   ]
  },
  {
   "cell_type": "code",
   "execution_count": null,
   "id": "eb71fa04",
   "metadata": {
    "ExecuteTime": {
     "end_time": "2024-04-14T17:53:22.002399Z",
     "start_time": "2024-04-14T17:53:21.973461Z"
    }
   },
   "outputs": [],
   "source": [
    "#db_travel['user_id'] = db_travel['TRAVELER_ID']\n",
    "\n",
    "db_travel.head()"
   ]
  },
  {
   "cell_type": "code",
   "execution_count": null,
   "id": "8536e76a",
   "metadata": {
    "ExecuteTime": {
     "end_time": "2024-04-14T17:53:22.033421Z",
     "start_time": "2024-04-14T17:53:22.004917Z"
    },
    "scrolled": false
   },
   "outputs": [],
   "source": [
    "# 구축 결과 테스트\n",
    "db_travel[db_travel['VISIT_AREA_NM'].str.contains(\"카멜리아\")].head()"
   ]
  },
  {
   "cell_type": "code",
   "execution_count": null,
   "id": "d8a4a068",
   "metadata": {
    "ExecuteTime": {
     "end_time": "2024-04-14T17:53:22.064951Z",
     "start_time": "2024-04-14T17:53:22.035425Z"
    },
    "scrolled": false
   },
   "outputs": [],
   "source": [
    "db_travel.info()"
   ]
  },
  {
   "cell_type": "code",
   "execution_count": null,
   "id": "dac9eb9b",
   "metadata": {
    "ExecuteTime": {
     "end_time": "2024-04-14T17:53:22.691960Z",
     "start_time": "2024-04-14T17:53:22.066952Z"
    }
   },
   "outputs": [],
   "source": [
    "db_travel.to_csv('travel_log.csv', encoding='utf-8-sig', index=False)"
   ]
  },
  {
   "cell_type": "markdown",
   "id": "17ffbb29",
   "metadata": {},
   "source": [
    "### 주요 변수에 대한 해석(feat. AI Hub문서)"
   ]
  },
  {
   "cell_type": "markdown",
   "id": "dca7a47b",
   "metadata": {},
   "source": [
    "> **✔️ Bold 처리된 컬럼은 필수 데이터**\n",
    "> 사용 불필요 데이터는 제외하고 해석\n",
    "\n",
    "- VISIT_AREA_ID : 여행경로상의 모든 방문지에 대한 고유ID, POI ID라고 볼 수 있음\n",
    "- TRAVEL_ID : 여행로그에 대한 고유ID, 하나의 ID에 여러 VISIT_AREA_ID 에 대한 정보가 포함되어 있음\n",
    "- VISIT_AREA_ID : 각 여행의 POI방문 순서 (필요X)\n",
    "- **VISIT_AREA_NM : VISIT_AREA_ID의 장소명**\n",
    "    - `숙소` 등 관광지라기보단 여행지를 관광객이 기록한 명칭이 입력되어 있음\n",
    "    - 관광지명이 아닌 데이터에 대한 전처리 필요해 보임\n",
    "- ROAD_NM_ADDR : 방문장소의 도로명 주소\n",
    "    - TourAPI 데이터와 장소가 같더라도 상세주소 및 좌표정보가 다름(관광객이 직접 수집한정보라 오차가 발생한듯 보임)\n",
    "    - 차후 TourAPI의 POI와 병합할때 전처리 방법 고민 필요\n",
    "- LOTNO_ADDR : 방문장소의 지번주소\n",
    "- X_COORD : 경도\n",
    "- Y_COORD : 위도\n",
    "- ROAD_NM_CD : 도로명 코드\n",
    "- LOTNO_CD : 지번 코드\n",
    "- POI_ID : 방문장소 고유ID\n",
    "- POI_NM : 방문장소의 공식 명칭\n",
    "- **VISIT_AREA_TYPE_CD : 방문지유형코드 (코드A & 코드B로 확인 가능)**\n",
    "- REVISIT_YN : 재방문여부\n",
    "- VISIT_CHC_REASON_CD : 방문선택이유 코드 (코드A & 코드B로 확인 가능)\n",
    "- **DGSTFN : 만족도 (y label이 될 값)**\n",
    "- REVISIT_INTENTION : 재방문 의향\n",
    "- RCMDTN_INTENTION : 추천 의향\n",
    "- SGG_CD : 시군구 코드\n",
    "- TRAVEL_NM : 여행명 (TRAVELER_ID 와 결합되어 TRAVEL_ID가 됨)\n",
    "- TRAVELER_ID : 여행객 고유 ID\n",
    "- TRAVEL_PURPOSE : 여행목적 (총 21개의 카테고리, 코드A & 코드B로 확인 가능)\n",
    "- TRAVEL_PERSONA : 여행 행태별 페르소나 👉 여행객의 여행 스타일 유형\n",
    "- TRAVEL_MISSION : 여행미션 (여행목적으로 21개의 카테고리, 코드A & 코드B로 확인 가능)\n",
    "- TRAVEL_MISSION_CHECK : 미션우선도 Check(전체 여행기록중 설정한 미션대로 여행했는지 여부로 TRAVEL_MISSION과 동일 카테고리사용)\n",
    "    - 즉, `TRAVEL_MISSION` 는 자료 수집시 여행객에게 부여된 미션이고, `TRAVEL_MISSION_CHECK` 이 실제로 여행하면서 여행객이 수행한 미션에 대한 정보\n",
    "- RESIDENCE_SGG_CD : 여행객 거주지 시군구코드\n",
    "- GENDER : 여행객 성별\n",
    "- AGE_GRP : 여행객 연령대 (20~60대 , nan)\n",
    "- TRAVEL_TERM : 여형빈도_기간 (4개 카테고리 : 1주일, 한달, 1년, 기타) + 코드A & 코드B로 확인 가능\n",
    "- TRAVEL_NUM : 여행빈도 (1~20 순차적으로 있고, 나머지는 24, 30, 40, 100 등 범주가 제각각)\n",
    "- TRAVELER_ID : \n",
    " \n",
    "       HOUSE_INCOME, TRAVEL_TERM, TRAVEL_NUM, TRAVEL_LIKE_SIDO_1,\n",
    "       TRAVEL_LIKE_SGG_1, TRAVEL_LIKE_SIDO_2, TRAVEL_LIKE_SGG_2,\n",
    "       TRAVEL_LIKE_SIDO_3, TRAVEL_LIKE_SGG_3, TRAVEL_STYL_1,\n",
    "       TRAVEL_STYL_2, TRAVEL_STYL_3, TRAVEL_STYL_4, TRAVEL_STYL_5,\n",
    "       TRAVEL_STYL_6, TRAVEL_STYL_7, TRAVEL_STYL_8,\n",
    "       TRAVEL_STATUS_RESIDENCE, TRAVEL_STATUS_DESTINATION,\n",
    "       TRAVEL_STATUS_ACCOMPANY, TRAVEL_STATUS_YMD, TRAVEL_MOTIVE_1,\n",
    "       TRAVEL_MOTIVE_2, TRAVEL_MOTIVE_3, TRAVEL_COMPANIONS_NUM],"
   ]
  },
  {
   "cell_type": "markdown",
   "id": "343e1234",
   "metadata": {},
   "source": [
    "## 전처리"
   ]
  },
  {
   "cell_type": "markdown",
   "id": "8e9127f2",
   "metadata": {},
   "source": [
    "- 필요 column 추출 & null 있는 행 제거"
   ]
  },
  {
   "cell_type": "code",
   "execution_count": null,
   "id": "5610a999",
   "metadata": {
    "ExecuteTime": {
     "end_time": "2024-04-14T17:53:22.876653Z",
     "start_time": "2024-04-14T17:53:22.693970Z"
    }
   },
   "outputs": [],
   "source": [
    "df_filter = db_travel[~db_travel['TRAVEL_MISSION_CHECK'].isnull()].copy()\n",
    "\n",
    "df_filter.loc[:, 'TRAVEL_MISSION_INT'] = df_filter['TRAVEL_MISSION_CHECK'].str.split(';').str[0].astype(int)\n",
    "\n",
    "df_filter.info()"
   ]
  },
  {
   "cell_type": "code",
   "execution_count": null,
   "id": "ea7209c3",
   "metadata": {
    "ExecuteTime": {
     "end_time": "2024-04-14T17:53:22.907362Z",
     "start_time": "2024-04-14T17:53:22.878657Z"
    }
   },
   "outputs": [],
   "source": [
    "travel_log_filtered = df_filter[[\n",
    "    'GENDER',\n",
    "    'AGE_GRP',\n",
    "    \n",
    "    'TRAVEL_STYL_1', 'TRAVEL_STYL_2', 'TRAVEL_STYL_3', 'TRAVEL_STYL_4', 'TRAVEL_STYL_5', 'TRAVEL_STYL_6', 'TRAVEL_STYL_7', 'TRAVEL_STYL_8',\n",
    "    'VISIT_AREA_NM','TRAVEL_MISSION_CHECK','TRAVEL_MISSION_INT', 'STARS']]\n",
    "\n",
    "\n",
    "\n",
    "\n",
    "#travel_log_filtered.loc[:, 'GENDER'] = travel_log_filtered['GENDER'].map({'남': 0, '여': 1})\n",
    "\n",
    "travel_log_filtered = travel_log_filtered.dropna()\n",
    "\n",
    "travel_log_filtered.head()"
   ]
  },
  {
   "cell_type": "code",
   "execution_count": null,
   "id": "4c6dc821",
   "metadata": {
    "ExecuteTime": {
     "end_time": "2024-04-14T17:53:22.938091Z",
     "start_time": "2024-04-14T17:53:22.909878Z"
    },
    "scrolled": false
   },
   "outputs": [],
   "source": [
    "travel_log_filtered.info()"
   ]
  },
  {
   "cell_type": "markdown",
   "id": "9b811121",
   "metadata": {},
   "source": [
    "- categorical feature 정의"
   ]
  },
  {
   "cell_type": "code",
   "execution_count": null,
   "id": "d57357e6",
   "metadata": {
    "ExecuteTime": {
     "end_time": "2024-04-14T17:53:22.969752Z",
     "start_time": "2024-04-14T17:53:22.942018Z"
    }
   },
   "outputs": [],
   "source": [
    "# categorical_features_names 리스트에 범주형 특성 이름들을 저장\n",
    "# CatBoost에서 categorical feature들을 알려주기 위한 용도\n",
    "# CatBoost는 categorical 인 feature명만 알려주면 자체적으로 변경하여 사용\n",
    "categorical_features_names = [\n",
    "    'GENDER'\n",
    "    #'AGE_GRP',\n",
    "    ,'TRAVEL_STYL_1', 'TRAVEL_STYL_2', 'TRAVEL_STYL_3', 'TRAVEL_STYL_4', 'TRAVEL_STYL_5', 'TRAVEL_STYL_6', 'TRAVEL_STYL_7', 'TRAVEL_STYL_8'\n",
    "    ,'TRAVEL_MISSION_INT','VISIT_AREA_NM'\n",
    "]\n",
    "\n",
    "# travel_log_filtered 데이터프레임에서 categorical_features_names 리스트의 두 번째 요소부터 마지막에서 두 번째 요소까지의 범주형 특성들을 정수형으로 변환\n",
    "travel_log_filtered[categorical_features_names[1:-1]] = travel_log_filtered[categorical_features_names[1:-1]].astype(int)\n",
    "\n",
    "travel_log_filtered.info()"
   ]
  },
  {
   "cell_type": "code",
   "execution_count": null,
   "id": "31b6500c",
   "metadata": {
    "ExecuteTime": {
     "end_time": "2024-04-14T17:53:23.015435Z",
     "start_time": "2024-04-14T17:53:22.971780Z"
    }
   },
   "outputs": [],
   "source": [
    "travel_log_filtered['STARS'].value_counts()"
   ]
  },
  {
   "cell_type": "markdown",
   "id": "60c14302",
   "metadata": {},
   "source": [
    "- y 값에 불균형이 이 있어 데이터가 상위 점수 쪽으로 과적합 될 수 있음\n",
    "- 모델의 하이퍼 파라미터 튜닝에서 이를 조절할 수 도 있으나, 데이터 셋 자체가 작은 편이므로 샘플링을 활용하는 것이 더 적합해 보임"
   ]
  },
  {
   "cell_type": "markdown",
   "id": "ed264944",
   "metadata": {},
   "source": [
    "### 데이터 불균형 해소(feat. 언더샘플링 & 오버샘플링)"
   ]
  },
  {
   "cell_type": "markdown",
   "id": "d6ff7b63",
   "metadata": {},
   "source": [
    "- 데이터의 불균형이 심해 모델이 높은 점수로 예측할 가능성이 높음\n",
    "- 따라서 데이터 불균형 문제를 해결해야 함\n",
    "- 현재 데이터의 경우 4.6만건으로 데이터의 볼륨이 크지 않아 언더샘플링을 하는 것은 데이터의 손실이 너무 커져서 부적절함\n",
    "- 반대로 오버샘플링을 하기엔 1~3 클래스의 데이터가 너무 적어 데이터의 특성을 살리지 못할 수 있음\n",
    "- 이 경우 언더 샘플링과 오버샘플링을 조합하는 것이 더 적합해 보임\n",
    "    - 다수 클래스인 4,5의 데이터 일부에는 언더 샘플링을 적용(비율을 낮게 설정)\n",
    "    - 소수 클래스인 1~3은 오버 샘플링을 적용해 합성 데이터를 생성\n",
    "        - 단, 클래스 3은 1~2에 비해 상대적으로 데이터의 수가 훨씬 많으므로 비율을 다르게 적용\n",
    "- 언더샘플링과 오버샘플링을 조합함으로써 데이터 손실을 최소화 하면서 클래스 불균형 문제를 해소 시도"
   ]
  },
  {
   "cell_type": "code",
   "execution_count": null,
   "id": "f96131cb",
   "metadata": {
    "ExecuteTime": {
     "end_time": "2024-04-14T17:53:38.347695Z",
     "start_time": "2024-04-14T17:53:23.017433Z"
    },
    "scrolled": true
   },
   "outputs": [],
   "source": [
    "from imblearn.under_sampling import RandomUnderSampler\n",
    "from imblearn.over_sampling import SMOTENC\n",
    "from sklearn.preprocessing import LabelEncoder\n",
    "\n",
    "# 독립 변수와 종속 변수 분리\n",
    "X = travel_log_filtered.drop('STARS', axis=1)\n",
    "y = travel_log_filtered['STARS']\n",
    "\n",
    "# 모든 독립 변수를 범주형 변수로 지정\n",
    "categorical_features = X.columns[:-1].tolist() # TRAVEL_MISSION_INT 제외한 모든 변수 범주형\n",
    "\n",
    "# 범주형 변수 전처리\n",
    "label_encoders = {}\n",
    "\n",
    "for feature in categorical_features:\n",
    "    le = LabelEncoder()\n",
    "    X[feature] = le.fit_transform(X[feature].astype(str))\n",
    "    label_encoders[feature] = le\n",
    "\n",
    "# 독립 변수와 종속 변수 분리\n",
    "y = travel_log_filtered['STARS']\n",
    "\n",
    "# 언더샘플링 적용\n",
    "under_sampler = RandomUnderSampler(sampling_strategy={5.0: 15000, 4.0: 15000})\n",
    "X_under, y_under = under_sampler.fit_resample(X, y)\n",
    "\n",
    "# 오버샘플링 적용\n",
    "categorical_indices = [X.columns.get_loc(col) for col in categorical_features]\n",
    "over_sampler = SMOTENC(sampling_strategy={1.0: 5000, 2.0: 5000, 3.0: 10000}, categorical_features=categorical_indices)\n",
    "X_resampled, y_resampled = over_sampler.fit_resample(X_under, y_under)\n",
    "\n",
    "print(\"Resampled STARS Distribution:\")\n",
    "print(y_resampled.value_counts())"
   ]
  },
  {
   "cell_type": "markdown",
   "id": "78f33de9",
   "metadata": {},
   "source": [
    "## Train / Test Split"
   ]
  },
  {
   "cell_type": "code",
   "execution_count": null,
   "id": "ae36c7a5",
   "metadata": {
    "ExecuteTime": {
     "end_time": "2024-04-14T17:53:38.363147Z",
     "start_time": "2024-04-14T17:53:38.350205Z"
    }
   },
   "outputs": [],
   "source": [
    "from sklearn.model_selection import train_test_split\n",
    "\n",
    "X_train, X_test, y_train, y_test = train_test_split(X_resampled, y_resampled, test_size=0.2, random_state=42)\n",
    "\n",
    "print(f\"X train shape: {X_train.shape}\")\n",
    "print(f\"y train shape: {y_train.shape}\")\n",
    "print(f\"X_testshape: {X_test.shape}\")\n",
    "print(f\"y_test shape: {y_test.shape}\")"
   ]
  },
  {
   "cell_type": "code",
   "execution_count": null,
   "id": "729c2a33",
   "metadata": {
    "ExecuteTime": {
     "end_time": "2024-04-14T17:53:38.378192Z",
     "start_time": "2024-04-14T17:53:38.365151Z"
    }
   },
   "outputs": [],
   "source": [
    "X_train.info()"
   ]
  },
  {
   "cell_type": "code",
   "execution_count": null,
   "id": "dce7282d",
   "metadata": {
    "ExecuteTime": {
     "end_time": "2024-04-14T17:53:38.393826Z",
     "start_time": "2024-04-14T17:53:38.380220Z"
    }
   },
   "outputs": [],
   "source": [
    "X_train.head()"
   ]
  },
  {
   "cell_type": "markdown",
   "id": "0f952add",
   "metadata": {},
   "source": [
    "## Modeling"
   ]
  },
  {
   "cell_type": "markdown",
   "id": "4643f5a4",
   "metadata": {},
   "source": [
    "### CatBoost 모델 사용(AI Hub 모델과 동일 알고리즘)"
   ]
  },
  {
   "cell_type": "markdown",
   "id": "656b9002",
   "metadata": {},
   "source": [
    "### 모델 정의 및 학습"
   ]
  },
  {
   "cell_type": "code",
   "execution_count": null,
   "id": "fc684c2f",
   "metadata": {
    "ExecuteTime": {
     "end_time": "2024-04-14T18:29:12.723272Z",
     "start_time": "2024-04-14T17:53:38.395828Z"
    },
    "scrolled": true
   },
   "outputs": [],
   "source": [
    "from catboost import CatBoostRegressor, Pool\n",
    "\n",
    "# 학습 데이터 Pool 생성\n",
    "train_pool = Pool(X_train, label=y_train, cat_features=categorical_features)\n",
    "\n",
    "# 테스트 데이터 Pool 생성\n",
    "test_pool = Pool(X_test, label=y_test, cat_features=categorical_features)\n",
    "\n",
    "# 탐색할 하이퍼파라미터 공간 정의\n",
    "param_dist = {\n",
    "    'depth': [4, 6, 8],\n",
    "    'learning_rate': [0.01, 0.05, 0.1],\n",
    "    'l2_leaf_reg': [1, 3, 5, 7, 9]\n",
    "}\n",
    "\n",
    "# Randomized Search 수행\n",
    "model = CatBoostRegressor(\n",
    "    loss_function='RMSE',\n",
    "    eval_metric='MAE',\n",
    "    task_type='GPU',\n",
    "    n_estimators=2000,\n",
    "    random_seed=42\n",
    ")\n",
    "\n",
    "model.randomized_search(\n",
    "    param_distributions=param_dist,\n",
    "    X=train_pool,\n",
    "    y=None,\n",
    "    cv=5,\n",
    "    n_iter=20,\n",
    "    plot=True\n",
    ")\n",
    "\n",
    "# 최적의 하이퍼파라미터로 모델 학습\n",
    "model.fit(train_pool, eval_set=test_pool, verbose=500, plot=True)"
   ]
  },
  {
   "cell_type": "markdown",
   "id": "b2ce7c0b",
   "metadata": {},
   "source": [
    "## 모델 성능 확인"
   ]
  },
  {
   "cell_type": "code",
   "execution_count": null,
   "id": "8a98ffac",
   "metadata": {
    "ExecuteTime": {
     "end_time": "2024-04-14T18:30:31.932129Z",
     "start_time": "2024-04-14T18:30:31.845181Z"
    }
   },
   "outputs": [],
   "source": [
    "# 테스트 데이터에 대한 예측\n",
    "y_pred = model.predict(X_test)\n",
    "\n",
    "# 평가 지표 계산\n",
    "from sklearn.metrics import mean_absolute_error, mean_squared_error, accuracy_score\n",
    "\n",
    "mae = mean_absolute_error(y_test, y_pred)\n",
    "rmse = mean_squared_error(y_test, y_pred, squared=False)\n",
    "\n",
    "\n",
    "print(f\"MAE: {mae:.4f}\")\n",
    "print(f\"RMSE: {rmse:.4f}\")"
   ]
  },
  {
   "cell_type": "code",
   "execution_count": null,
   "id": "f0e56553",
   "metadata": {
    "ExecuteTime": {
     "end_time": "2024-04-14T18:55:34.834537Z",
     "start_time": "2024-04-14T18:55:34.721256Z"
    }
   },
   "outputs": [],
   "source": [
    "import numpy as np\n",
    "from sklearn.metrics import ndcg_score\n",
    "\n",
    "# 모델 예측 수행\n",
    "y_pred = model.predict(X_test)\n",
    "\n",
    "# 예측 결과를 반올림하여 1에서 5 사이의 정수로 변환\n",
    "y_pred_rounded = np.round(y_pred)\n",
    "y_pred_rounded = np.clip(y_pred_rounded, 1, 5)\n",
    "\n",
    "# 실제 상호작용 데이터와 비교하여 평가 지표 계산\n",
    "# 예측값 기반 상위 10개 아이템 추출\n",
    "top_k_indices = np.argsort(-y_pred_rounded)[:10]\n",
    "\n",
    "# 실제 값에서도 상위 10개 추출\n",
    "top_k_actual = np.argsort(-y_test)[:10]\n",
    "\n",
    "# 상위 10개 예측 점수를 2차원 배열로 변환\n",
    "predicted_scores_top_k = y_pred_rounded[top_k_indices].reshape(1, -1)\n",
    "\n",
    "# 실제 관련성 점수 배열도 2차원 배열로 변환\n",
    "actual_relevance = np.zeros_like(y_test)\n",
    "actual_relevance[top_k_actual] = 1\n",
    "actual_relevance = actual_relevance[top_k_indices].reshape(1, -1)\n",
    "\n",
    "# NDCG@10 계산\n",
    "ndcg_at_10 = ndcg_score(actual_relevance, predicted_scores_top_k, k=10)\n",
    "\n",
    "# Recall@10 계산\n",
    "recall_at_10 = len(np.intersect1d(top_k_indices, top_k_actual)) / 10.0\n",
    "\n",
    "print(f\"Recall@10: {recall_at_10:.4f}\")\n",
    "print(f\"NDCG@10: {ndcg_at_10:.4f}\")"
   ]
  },
  {
   "cell_type": "markdown",
   "id": "8c9a6b10",
   "metadata": {},
   "source": [
    "- **MAE** :\n",
    "    - MAE가 0에 가까울수록 예측의 정확도가 높다는 것을 의미합니다. 여기서 MAE가 0.6210이라는 것은 모델 예측이 평균적으로 실제 값과 0.6210만큼의 차이를 보인다는 것으로 모델의 성능이 상당히 좋다는 것을 알 수 있습니다.\n",
    "- **RMSE** :\n",
    "    RMSE 는 예측의 오차크기를 나타내며, 일반적으로 RMSE가 낮을 수록 예측 성능이 높다고 평가합니다. 현재 모델의 경우  평균적으로 실제 값과의 차이가 약 0.7686 정도라는 것을 의미하며, 이 역시 상대적으로 좋은 성능이라 할 수 있습니다.\n",
    "    \n",
    "- 결론적으로 현재 구축된 모델의 성능은 상당히 뛰어나다고 할 수 있습니다. 오차가 거의 없이 예측을 하고 있기 때문입니다."
   ]
  },
  {
   "cell_type": "markdown",
   "id": "b9da099f",
   "metadata": {},
   "source": [
    "### 테스트"
   ]
  },
  {
   "cell_type": "code",
   "execution_count": null,
   "id": "da8e72db",
   "metadata": {
    "ExecuteTime": {
     "end_time": "2024-04-14T19:07:44.220277Z",
     "start_time": "2024-04-14T19:07:44.207995Z"
    }
   },
   "outputs": [],
   "source": [
    "X_test.reset_index(drop=True, inplace=True)\n",
    "y_test.reset_index(drop=True, inplace=True)"
   ]
  },
  {
   "cell_type": "code",
   "execution_count": null,
   "id": "e75a8ba5",
   "metadata": {
    "ExecuteTime": {
     "end_time": "2024-04-14T19:07:45.060962Z",
     "start_time": "2024-04-14T19:07:45.046870Z"
    }
   },
   "outputs": [],
   "source": [
    "# 0부터 9999까지의 범위에서 랜덤한 값을 선택합니다.\n",
    "import random\n",
    "i = random.randint(0, 9999)\n",
    "\n",
    "print(X_test.loc[i])\n",
    "\n",
    "print(f' \\n실제 해당 여행객이 평가한 만족도 점수 : {y_test.loc[i]}')\n",
    "# DataFrame 형태를 유지하기 위해 loc[[i]]를 사용합니다.\n",
    "print(f' \\n모델이 평가한 여행객의 만족 예상 점수 : {model.predict(X_test.loc[[i]])}')"
   ]
  },
  {
   "cell_type": "code",
   "execution_count": null,
   "id": "3fe0cf71",
   "metadata": {
    "ExecuteTime": {
     "end_time": "2024-04-14T19:07:46.482515Z",
     "start_time": "2024-04-14T19:07:46.463503Z"
    }
   },
   "outputs": [],
   "source": [
    "def model_test():\n",
    "    i = random.randint(0, 9999)\n",
    "\n",
    "    print(X_test.loc[i])\n",
    "\n",
    "    print(f' \\n실제 해당 여행객이 평가한 만족도 점수 : {y_test.loc[i]}')\n",
    "    # DataFrame 형태를 유지하기 위해 loc[[i]]를 사용합니다.\n",
    "    print(f' \\n모델이 평가한 여행객의 만족 예상 점수 : {model.predict(X_test.loc[[i]])}')"
   ]
  },
  {
   "cell_type": "code",
   "execution_count": null,
   "id": "5b564958",
   "metadata": {
    "ExecuteTime": {
     "end_time": "2024-04-14T19:07:47.276110Z",
     "start_time": "2024-04-14T19:07:47.264091Z"
    },
    "scrolled": true
   },
   "outputs": [],
   "source": [
    "model_test()"
   ]
  },
  {
   "cell_type": "code",
   "execution_count": null,
   "id": "bdfc4d68",
   "metadata": {
    "ExecuteTime": {
     "end_time": "2024-04-14T19:07:49.390357Z",
     "start_time": "2024-04-14T19:07:49.272228Z"
    },
    "scrolled": false
   },
   "outputs": [],
   "source": [
    "for i in range(10):\n",
    "    model_test()"
   ]
  },
  {
   "cell_type": "markdown",
   "id": "958487d9",
   "metadata": {},
   "source": [
    "### Feature Importance"
   ]
  },
  {
   "cell_type": "code",
   "execution_count": null,
   "id": "ca5a43b2",
   "metadata": {
    "ExecuteTime": {
     "end_time": "2024-04-14T18:29:13.071508Z",
     "start_time": "2024-04-14T18:29:12.982677Z"
    },
    "scrolled": false
   },
   "outputs": [],
   "source": [
    "model.get_feature_importance(prettified=True)"
   ]
  },
  {
   "cell_type": "markdown",
   "id": "ddd2c1ff",
   "metadata": {},
   "source": [
    "## 모델 저장"
   ]
  },
  {
   "cell_type": "code",
   "execution_count": null,
   "id": "bbf18d07",
   "metadata": {
    "ExecuteTime": {
     "end_time": "2024-04-14T18:29:13.819357Z",
     "start_time": "2024-04-14T18:29:13.073505Z"
    }
   },
   "outputs": [],
   "source": [
    "# 모델 저장\n",
    "model.save_model('./model/CatBoost.cb')"
   ]
  },
  {
   "cell_type": "markdown",
   "id": "d6b7764a",
   "metadata": {},
   "source": [
    "## 원본데이터에 대한 모델 성능 테스트\n",
    "\n",
    "- 위에서 실험한 Train / Test 데이터는 모두 샘플링이된 데이터이므로 테스트의 신뢰도가 낮을 수 밖에 없음\n",
    "- 샘플링하지 않은 원본데이터를 랜덤하게 가져와 모델의 성능을 테스트"
   ]
  },
  {
   "cell_type": "code",
   "execution_count": null,
   "id": "a614532b",
   "metadata": {
    "ExecuteTime": {
     "end_time": "2024-04-14T18:29:13.823639Z",
     "start_time": "2024-04-14T18:29:13.823639Z"
    }
   },
   "outputs": [],
   "source": [
    "# 저장된 모델 불러오기\n",
    "from catboost import CatBoostRegressor\n",
    "loaded_model = CatBoostRegressor()  \n",
    "loaded_model.load_model('../model/CatBoost.cb')"
   ]
  },
  {
   "cell_type": "code",
   "execution_count": null,
   "id": "b8d0d44d",
   "metadata": {
    "ExecuteTime": {
     "end_time": "2024-04-14T18:29:13.825642Z",
     "start_time": "2024-04-14T18:29:13.825642Z"
    }
   },
   "outputs": [],
   "source": [
    "import random\n",
    "\n",
    "actual_scores = []\n",
    "predicted_scores = []\n",
    "\n",
    "def model_test(df):\n",
    "\n",
    "    while True:\n",
    "        try:\n",
    "            i = random.randint(0, len(df) - 1)\n",
    "\n",
    "            print(df.loc[i])\n",
    "\n",
    "            actual_scores.append(df.iloc[i, -1])\n",
    "\n",
    "            # 예측 값 계산 및 출력\n",
    "            predicted_score = loaded_model.predict(df.iloc[i, :-1].to_numpy().reshape(1, -1))\n",
    "            predicted_scores.append(predicted_score)\n",
    "\n",
    "            print(f\"\\n실제 해당 여행객이 평가한 만족도 점수: {df.iloc[i, -1]}\")\n",
    "            print(f\"\\n모델이 평가한 여행객의 만족 예상 점수: {predicted_score}\\n\")\n",
    "            print('-'*100)\n",
    "\n",
    "            break\n",
    "\n",
    "        except KeyError:\n",
    "            pass\n",
    "        \n",
    "        return actual_scores, predicted_scores    "
   ]
  },
  {
   "cell_type": "code",
   "execution_count": null,
   "id": "1f9665d2",
   "metadata": {
    "ExecuteTime": {
     "end_time": "2024-04-14T18:29:13.825642Z",
     "start_time": "2024-04-14T18:29:13.825642Z"
    }
   },
   "outputs": [],
   "source": [
    "travel_log_filtered['AGE_GRP'] = travel_log_filtered['AGE_GRP'].astype(str)"
   ]
  },
  {
   "cell_type": "code",
   "execution_count": null,
   "id": "3aa8c1e3",
   "metadata": {
    "ExecuteTime": {
     "end_time": "2024-04-14T18:29:13.827640Z",
     "start_time": "2024-04-14T18:29:13.827640Z"
    },
    "scrolled": false
   },
   "outputs": [],
   "source": [
    "# 예시 실행\n",
    "model_test(travel_log_filtered.copy())"
   ]
  },
  {
   "cell_type": "code",
   "execution_count": null,
   "id": "ded16278",
   "metadata": {
    "ExecuteTime": {
     "end_time": "2024-04-14T18:29:13.828695Z",
     "start_time": "2024-04-14T18:29:13.828695Z"
    },
    "scrolled": true
   },
   "outputs": [],
   "source": [
    "# 예시 실행\n",
    "for i in range(10):\n",
    "    model_test(travel_log_filtered.copy())\n",
    "\n",
    "# MAE, RMSE, MSE 계산 및 출력\n",
    "actual_scores = np.array(actual_scores)  # 리스트를 NumPy 배열로 변환\n",
    "predicted_scores = np.array(predicted_scores)  # 리스트를 NumPy 배열로 변환\n",
    "\n",
    "mae = np.mean(np.abs(actual_scores - predicted_scores))\n",
    "rmse = np.sqrt(np.mean((actual_scores - predicted_scores) ** 2))\n",
    "mse = np.mean((actual_scores - predicted_scores) ** 2)\n",
    "\n",
    "print(f\"\\nMAE: {mae}\")\n",
    "print(f\"\\nRMSE: {rmse}\")\n",
    "print(f\"\\nMSE: {mse}\")"
   ]
  },
  {
   "cell_type": "markdown",
   "id": "d952642a",
   "metadata": {},
   "source": [
    "- 기존 모델 점수\n",
    "MAE: 0.6210\n",
    "RMSE: 0.7686"
   ]
  }
 ],
 "metadata": {
  "kernelspec": {
   "display_name": "torch_env",
   "language": "python",
   "name": "torch_env"
  },
  "language_info": {
   "codemirror_mode": {
    "name": "ipython",
    "version": 3
   },
   "file_extension": ".py",
   "mimetype": "text/x-python",
   "name": "python",
   "nbconvert_exporter": "python",
   "pygments_lexer": "ipython3",
   "version": "3.8.18"
  },
  "toc": {
   "base_numbering": 1,
   "nav_menu": {},
   "number_sections": true,
   "sideBar": true,
   "skip_h1_title": false,
   "title_cell": "Table of Contents",
   "title_sidebar": "Contents",
   "toc_cell": false,
   "toc_position": {
    "height": "calc(100% - 180px)",
    "left": "10px",
    "top": "150px",
    "width": "306.025px"
   },
   "toc_section_display": true,
   "toc_window_display": true
  },
  "varInspector": {
   "cols": {
    "lenName": 16,
    "lenType": 16,
    "lenVar": 40
   },
   "kernels_config": {
    "python": {
     "delete_cmd_postfix": "",
     "delete_cmd_prefix": "del ",
     "library": "var_list.py",
     "varRefreshCmd": "print(var_dic_list())"
    },
    "r": {
     "delete_cmd_postfix": ") ",
     "delete_cmd_prefix": "rm(",
     "library": "var_list.r",
     "varRefreshCmd": "cat(var_dic_list()) "
    }
   },
   "types_to_exclude": [
    "module",
    "function",
    "builtin_function_or_method",
    "instance",
    "_Feature"
   ],
   "window_display": false
  }
 },
 "nbformat": 4,
 "nbformat_minor": 5
}
