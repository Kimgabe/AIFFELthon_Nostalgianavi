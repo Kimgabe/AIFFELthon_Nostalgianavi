{
 "cells": [
  {
   "cell_type": "markdown",
   "id": "627aa9ec",
   "metadata": {},
   "source": [
    "# 📌 Intro.\n",
    "\n",
    "- 구글이미지에 각 POI의 장소명을 입력해 이미지 검색후 크롤링\n",
    "- AI hub에서 제공하는 데이터셋의 이미지 품질이 저조하여 신규 데이터 수집을 수행"
   ]
  },
  {
   "cell_type": "markdown",
   "id": "8eb4978b",
   "metadata": {},
   "source": [
    "## 필요 라이브러리 선언"
   ]
  },
  {
   "cell_type": "code",
   "execution_count": null,
   "id": "e5ab62f7",
   "metadata": {
    "ExecuteTime": {
     "end_time": "2024-04-12T15:17:04.486345Z",
     "start_time": "2024-04-12T15:17:03.539921Z"
    },
    "scrolled": true
   },
   "outputs": [],
   "source": [
    "# 웹 드라이버 및 자동 설치 관련\n",
    "import chromedriver_autoinstaller\n",
    "import edgedriver_autoinstaller\n",
    "from selenium import webdriver\n",
    "from selenium.webdriver.chrome.service import Service\n",
    "from selenium.webdriver.common.by import By\n",
    "from selenium.webdriver.common.keys import Keys\n",
    "\n",
    "# 웹 요청 및 이미지 처리 관련\n",
    "import requests\n",
    "from PIL import Image\n",
    "from io import BytesIO\n",
    "\n",
    "# 사용자 에이전트 생성 관련\n",
    "from fake_useragent import UserAgent\n",
    "\n",
    "# 기타 유틸리티\n",
    "import os\n",
    "import gc\n",
    "import time\n",
    "import ssl\n",
    "import re\n",
    "import urllib.request\n",
    "from tqdm.notebook import tqdm\n",
    "import pandas as pd"
   ]
  },
  {
   "cell_type": "markdown",
   "id": "adc93adc",
   "metadata": {},
   "source": [
    "## 크롤링 함수 작성"
   ]
  },
  {
   "cell_type": "code",
   "execution_count": null,
   "id": "5f03f015",
   "metadata": {
    "ExecuteTime": {
     "end_time": "2024-04-12T15:16:51.939536Z",
     "start_time": "2024-04-12T15:16:51.926386Z"
    }
   },
   "outputs": [],
   "source": [
    "# 크롬 버전 확인 및 드라이버 설정\n",
    "chrome_ver = chromedriver_autoinstaller.get_chrome_version().split('.')[0]\n",
    "\n",
    "# SSL 인증을 위한 설정\n",
    "ssl._create_default_https_context = ssl._create_default_https_context\n",
    "\n",
    "def create_driver():\n",
    "    \"\"\"\n",
    "    Chrome 드라이버를 생성하는 함수\n",
    "    - fake_useragent를 사용하여 랜덤한 User-Agent 설정\n",
    "    - 창을 화면 밖으로 이동시키는 옵션 설정\n",
    "    \"\"\"\n",
    "    \n",
    "    # fake_useragent를 이용하여 랜덤한 UserAgent를 생성\n",
    "    ua = UserAgent()\n",
    "    user_agent = ua.random\n",
    "\n",
    "    # Chrome 드라이버의 옵션을 설정\n",
    "    options = webdriver.ChromeOptions()\n",
    "    options.add_argument(f'user-agent={user_agent}')\n",
    "    #options.add_argument('--headless')\n",
    "    options.add_argument('--no-sandbox')\n",
    "    options.add_argument('--disable-dev-shm-usage')\n",
    "    # 창을 화면 밖으로 이동시키는 옵션\n",
    "    options.add_argument('--window-position=10000,0')\n",
    "\n",
    "    # 설정한 옵션으로 Chrome 드라이버를 생성\n",
    "    driver = webdriver.Chrome(options=options)\n",
    "    return driver\n",
    "\n",
    "def scroll_down(driver):\n",
    "    \"\"\"\n",
    "    웹 페이지를 아래로 스크롤하는 함수\n",
    "    - 스크롤을 내리면서 새로운 이미지를 로드\n",
    "    - 더 이상 로드할 이미지가 없거나 스크롤이 더 이상 내려가지 않을 때까지 반복\n",
    "    \"\"\"\n",
    "    \n",
    "    SCROLL_PAUSE_TIME = 1  # 페이지 스크롤 대기시간 \n",
    "    last_height = driver.execute_script(\"return document.body.scrollHeight\")\n",
    "    new_height = 0\n",
    "    \n",
    "    while True:\n",
    "        # 페이지 끝까지 스크롤\n",
    "        driver.execute_script(\"window.scrollTo(0, document.body.scrollHeight);\")\n",
    "        \n",
    "        # 스크롤 후 로딩 대기\n",
    "        time.sleep(SCROLL_PAUSE_TIME)\n",
    "        \n",
    "        # 스크롤 후 페이지 높이 다시 저장\n",
    "        new_height = driver.execute_script(\"return document.body.scrollHeight\")\n",
    "        \n",
    "        # 새로운 높이와 이전 높이가 같으면 스크롤 종료\n",
    "        if new_height == last_height:\n",
    "            try:\n",
    "                # 더보기 버튼 클릭\n",
    "                driver.find_element(By.CSS_SELECTOR, \".mye4qd\").click()\n",
    "                time.sleep(SCROLL_PAUSE_TIME)\n",
    "                new_height = driver.execute_script(\"return document.body.scrollHeight\")\n",
    "                \n",
    "                # 더보기 버튼 클릭 후에도 높이 변화가 없으면 스크롤 종료\n",
    "                if new_height == last_height:\n",
    "                    break\n",
    "                else:\n",
    "                    last_height = new_height\n",
    "            except:\n",
    "                # 더보기 버튼이 없거나 스크롤이 더 이상 내려가지 않으면 스크롤 종료\n",
    "                break\n",
    "        else:\n",
    "            last_height = new_height\n",
    "\n",
    "def download_images(driver, search_key, folder_name, start_count):\n",
    "    ua = UserAgent()\n",
    "    images = driver.find_elements(By.CSS_SELECTOR, \".rg_i.Q4LuWd\")\n",
    "    count = start_count\n",
    "\n",
    "    for image in images:\n",
    "        if count > 35:\n",
    "            break\n",
    "\n",
    "        try:\n",
    "            image.click()\n",
    "            time.sleep(0.5)\n",
    "\n",
    "            imgUrl = driver.find_element(\n",
    "                By.XPATH,\n",
    "                '//*[@id=\"Sva75c\"]/div[2]/div[2]/div[2]/div[2]/c-wiz/div/div/div/div/div[3]/div[1]/a/img[1]'\n",
    "            ).get_attribute(\"src\")\n",
    "\n",
    "            opener = urllib.request.build_opener()\n",
    "            opener.addheaders = [('User-Agent', ua.random)]\n",
    "            urllib.request.install_opener(opener)\n",
    "            \n",
    "            # SSL 인증서 검증 우회\n",
    "            ssl._create_default_https_context = ssl._create_unverified_context\n",
    "            \n",
    "            urllib.request.urlretrieve(imgUrl, os.path.join(folder_name, f'{search_key}_{str(count)}.jpg'))\n",
    "            count += 1\n",
    "        except:\n",
    "            print(f\"Failed to download image. Skipping...\")\n",
    "            raise\n",
    "    \n",
    "    return count\n",
    "\n",
    "def google_image_crawler(search_key, region_name):\n",
    "    region_dict = {\n",
    "        'jeju': '제주',\n",
    "        'gyeonggi': '경기',\n",
    "        'gangwon': '강원',\n",
    "        'chungbuk': '충북',\n",
    "        'chungnam': '충남',\n",
    "        'gyeongbuk': '경북',\n",
    "        'gyeongnam': '경남',\n",
    "        'jeonbuk': '전북',\n",
    "        'jeonnam': '전남',\n",
    "        'seoul': '서울',\n",
    "        'busan': '부산',\n",
    "        'incheon': '인천',\n",
    "        'gwangju': '광주',\n",
    "        'daejeon': '대전',\n",
    "        'ulsan': '울산',\n",
    "        'sejong': '세종'\n",
    "    }\n",
    "\n",
    "    \"\"\"\n",
    "    Google 이미지를 크롤링하는 메인 함수\n",
    "    - 입력 키워드 전처리\n",
    "    - 저장 경로 설정\n",
    "    - 기존 작업 유무 체크\n",
    "    - 검색 및 이미지 다운로드 수행\n",
    "    \"\"\"\n",
    "    \n",
    "    \"\"\"\n",
    "    입력 키워드 전처리\n",
    "    \"\"\"\n",
    "    # 특수 문자가 포함된 경우에만 대체하고, 특수 문자가 없는 경우는 입력값 유지\n",
    "    if re.search(r'[\\\\/:*?\"<>|]', search_key):\n",
    "        search_key = re.sub(r'[\\\\/:*?\"<>|]', '_', search_key)\n",
    "    \n",
    "    \"\"\"\n",
    "    저장 경로 설정\n",
    "    \"\"\"\n",
    "    folder_name = f'./data/travel_imgs/{region_name}/{search_key}'\n",
    "    start_count = 1  # 다운로드 시작번호 설정\n",
    "\n",
    "    # 상위 디렉토리 생성\n",
    "    os.makedirs(f'./data/travel_imgs/{region_name}', exist_ok=True)\n",
    "    \n",
    "    \"\"\"\n",
    "    기존 작업 유무 체크\n",
    "    \"\"\"\n",
    "    # 파일 수 확인 및 조기 반환 로직\n",
    "    if os.path.exists(folder_name):  # 키워드명으로된 폴더 있는 경우\n",
    "        file_list = os.listdir(folder_name)\n",
    "        file_count = len(file_list)\n",
    "        if file_count >= 35:\n",
    "            print(f\"{search_key} 폴더에 이미 35개의 이미지가 있습니다. 다음 키워드로 넘어갑니다.\")\n",
    "            return  # 함수종료 (크롤링 하지 않음)\n",
    "        \n",
    "        # 폴더는 있지만 이미지가 35개 이하인 경우 : 크롤링 필요\n",
    "        else:\n",
    "            start_count = file_count + 1  # 기존 파일개수를 기준으로 신규 파일명의 번호 기준점 set\n",
    "    # 키워드 명으로된 폴더가 없는 경우 생성\n",
    "    else:\n",
    "        os.makedirs(folder_name)\n",
    "    \n",
    "    \"\"\"\n",
    "    검색 시작\n",
    "    \"\"\"\n",
    "    # region_dict에서 region_name에 해당하는 한글 값 가져오기\n",
    "    region_korean = region_dict.get(region_name)\n",
    "    \n",
    "    if region_korean:\n",
    "        search_query = region_korean + ' ' + search_key + ' 여행'\n",
    "    else:\n",
    "        print(f\"잘못된 region_name입니다: {region_name}\")\n",
    "        return\n",
    "    \n",
    "    # 파일 수가 35개 미만인 경우에만 웹 드라이버 생성 및 검색 수행\n",
    "    while True:\n",
    "        driver = create_driver()\n",
    "        driver.get(\"https://www.google.co.kr/imghp?hl=ko&tab=wi&ogbl\")\n",
    "        elem = driver.find_element(\"name\", \"q\")\n",
    "        elem.send_keys(search_query)\n",
    "        elem.send_keys(Keys.RETURN)\n",
    "\n",
    "        try:\n",
    "            while True:\n",
    "                scroll_down(driver)\n",
    "                \n",
    "                # 30초 동안 이미지 수집이 되지 않는 경우 재시도\n",
    "                timeout = time.time() + 30\n",
    "                current_count = start_count\n",
    "                while current_count == start_count:\n",
    "                    current_count = download_images(driver, search_key, folder_name, start_count)\n",
    "                    if time.time() > timeout:\n",
    "                        raise Exception(\"Timeout: Image download not progressing\")\n",
    "                \n",
    "                if current_count > 35:\n",
    "                    break\n",
    "                start_count = current_count\n",
    "        except Exception as e:\n",
    "            print(f\"Error occurred: {e}. Restarting the browser and retrying.\")\n",
    "            driver.quit()\n",
    "            \n",
    "            # 에러 발생 시 폴더 존재 여부와 파일 개수 확인\n",
    "            if os.path.exists(folder_name):\n",
    "                file_list = os.listdir(folder_name)\n",
    "                file_count = len(file_list)\n",
    "                if file_count >= 35:\n",
    "                    print(f\"{search_key} 폴더에 이미 35개의 이미지가 있습니다. 다음 키워드로 넘어갑니다.\")\n",
    "                    break\n",
    "                else:\n",
    "                    start_count = file_count + 1\n",
    "            else:\n",
    "                os.makedirs(folder_name)\n",
    "                start_count = 1\n",
    "            \n",
    "            continue\n",
    "        \n",
    "        driver.quit()\n",
    "        break\n",
    "    \n",
    "    # 크롤링 결과 출력\n",
    "    file_list = os.listdir(folder_name)\n",
    "    file_count = len(file_list)\n",
    "    print(f\"{search_key} 키워드로 크롤링 완료. 총 {file_count}개의 이미지를 수집하였습니다.\")"
   ]
  },
  {
   "cell_type": "markdown",
   "id": "16f25bad",
   "metadata": {},
   "source": [
    "## 크롤링 목록 추출 리스트 생성"
   ]
  },
  {
   "cell_type": "code",
   "execution_count": null,
   "id": "457d216b",
   "metadata": {
    "ExecuteTime": {
     "end_time": "2024-04-12T15:17:10.264287Z",
     "start_time": "2024-04-12T15:17:10.150545Z"
    }
   },
   "outputs": [],
   "source": [
    "filtered_df = pd.read_csv('../data/tour_api/filtered_tour_meta.csv',encoding = 'utf-8-sig')"
   ]
  },
  {
   "cell_type": "code",
   "execution_count": null,
   "id": "3da7c7ed",
   "metadata": {
    "ExecuteTime": {
     "end_time": "2024-04-12T15:17:16.083384Z",
     "start_time": "2024-04-12T15:17:16.063340Z"
    }
   },
   "outputs": [],
   "source": [
    "filtered_df.head()"
   ]
  },
  {
   "cell_type": "code",
   "execution_count": null,
   "id": "afbfb27e",
   "metadata": {
    "ExecuteTime": {
     "end_time": "2024-04-12T15:17:21.928912Z",
     "start_time": "2024-04-12T15:17:21.915291Z"
    }
   },
   "outputs": [],
   "source": [
    "filtered_df.info()"
   ]
  },
  {
   "cell_type": "markdown",
   "id": "467f1929",
   "metadata": {},
   "source": [
    "## 크롤링 수행\n",
    "\n",
    "- 하나의 keyword 당 30장의 이미지를 성공적으로 수집했다면 다음 keyword로 넘어가도록 합니다."
   ]
  },
  {
   "cell_type": "markdown",
   "id": "666bead2",
   "metadata": {},
   "source": [
    "## 제주지역"
   ]
  },
  {
   "cell_type": "code",
   "execution_count": null,
   "id": "4df29d09",
   "metadata": {
    "ExecuteTime": {
     "end_time": "2024-03-25T01:56:32.059979Z",
     "start_time": "2024-03-25T01:56:32.045923Z"
    },
    "scrolled": false
   },
   "outputs": [],
   "source": [
    "# null 값을 처리하여 'contains' 메서드 사용\n",
    "jeju_df = filtered_df[filtered_df['addr1'].str.contains(\"제주\", na=False)]\n",
    "jeju_df.info()"
   ]
  },
  {
   "cell_type": "code",
   "execution_count": null,
   "id": "8e797156",
   "metadata": {
    "ExecuteTime": {
     "end_time": "2024-03-25T01:56:32.090063Z",
     "start_time": "2024-03-25T01:56:32.061979Z"
    }
   },
   "outputs": [],
   "source": [
    "jeju_df.to_csv('jeju_db.csv',encoding='utf-8-sig', index=False)"
   ]
  },
  {
   "cell_type": "code",
   "execution_count": null,
   "id": "19bd67bf",
   "metadata": {
    "ExecuteTime": {
     "end_time": "2024-03-25T01:56:32.105080Z",
     "start_time": "2024-03-25T01:56:32.092063Z"
    },
    "scrolled": true
   },
   "outputs": [],
   "source": [
    "# 검색어 리스트\n",
    "# 샘플로 제주 지역에 대한 이미지만 수집\n",
    "search_keywords = jeju_df['title'][:-28] # 제주지역 마지막 27개는 올레길이라 이미지수집이 무의미 (코스이미지가 대부분)\n",
    "\n",
    "\n",
    "print(len(search_keywords),\"\\n\")\n",
    "\n",
    "search_keywords"
   ]
  },
  {
   "cell_type": "code",
   "execution_count": null,
   "id": "595bc6fc",
   "metadata": {
    "ExecuteTime": {
     "end_time": "2024-03-25T01:56:32.272938Z",
     "start_time": "2024-03-25T01:56:32.106583Z"
    },
    "scrolled": true
   },
   "outputs": [],
   "source": [
    "# 각 검색어에 대해 크롤링 수행\n",
    "for keyword in tqdm(search_keywords, desc='이미지 크롤링 진행 중'):\n",
    "    print('-'*100)\n",
    "    print(f\"{keyword} 수집시도\")\n",
    "    google_image_crawler(keyword, 'jeju')"
   ]
  },
  {
   "cell_type": "markdown",
   "id": "ed214b23",
   "metadata": {},
   "source": [
    "## 경기도"
   ]
  },
  {
   "cell_type": "code",
   "execution_count": null,
   "id": "1e0b1e35",
   "metadata": {
    "ExecuteTime": {
     "end_time": "2024-03-25T09:03:29.186739Z",
     "start_time": "2024-03-25T09:03:29.158738Z"
    },
    "scrolled": false
   },
   "outputs": [],
   "source": [
    "# null 값을 처리하여 'contains' 메서드 사용\n",
    "gyeonggi_df = filtered_df[filtered_df['addr1'].str.contains(\"경기\", na=False)]\n",
    "gyeonggi_df.info()"
   ]
  },
  {
   "cell_type": "code",
   "execution_count": null,
   "id": "84129d85",
   "metadata": {
    "ExecuteTime": {
     "end_time": "2024-03-25T09:03:29.827043Z",
     "start_time": "2024-03-25T09:03:29.191189Z"
    }
   },
   "outputs": [],
   "source": [
    "gyeonggi_df.to_csv('gyeonggi_db.csv',encoding='utf-8-sig', index=False)"
   ]
  },
  {
   "cell_type": "code",
   "execution_count": null,
   "id": "90565e0c",
   "metadata": {
    "ExecuteTime": {
     "end_time": "2024-03-25T09:03:30.268066Z",
     "start_time": "2024-03-25T09:03:29.829043Z"
    }
   },
   "outputs": [],
   "source": [
    "# 검색어 리스트\n",
    "# 샘플로 경기 지역에 대한 이미지만 수집\n",
    "search_keywords = gyeonggi_df['title'][:-95] # 여행길 혹은 코스로된 부분 삭제\n",
    "\n",
    "\n",
    "print(len(search_keywords),\"\\n\")\n",
    "\n",
    "search_keywords"
   ]
  },
  {
   "cell_type": "code",
   "execution_count": null,
   "id": "ca534824",
   "metadata": {
    "ExecuteTime": {
     "start_time": "2024-03-25T09:03:10.812Z"
    },
    "scrolled": true
   },
   "outputs": [],
   "source": [
    "# 각 검색어에 대해 크롤링 수행\n",
    "for keyword in tqdm(search_keywords, desc='이미지 크롤링 진행 중'):\n",
    "    print(f\"{keyword} 수집시도\")\n",
    "    google_image_crawler(keyword, 'gyeonggi')"
   ]
  },
  {
   "cell_type": "markdown",
   "id": "47c38d31",
   "metadata": {},
   "source": [
    "## 강원도"
   ]
  },
  {
   "cell_type": "code",
   "execution_count": null,
   "id": "bde42978",
   "metadata": {
    "ExecuteTime": {
     "start_time": "2024-03-23T13:43:02.671Z"
    },
    "scrolled": false
   },
   "outputs": [],
   "source": [
    "# null 값을 처리하여 'contains' 메서드 사용\n",
    "gangwon_df = filtered_df[filtered_df['addr1'].str.contains(\"강원\", na=False)]\n",
    "gangwon_df.info()"
   ]
  },
  {
   "cell_type": "code",
   "execution_count": null,
   "id": "4ccc478c",
   "metadata": {
    "ExecuteTime": {
     "start_time": "2024-03-23T13:43:02.672Z"
    }
   },
   "outputs": [],
   "source": [
    "gangwon_df.to_csv('gangwon_db.csv',encoding='utf-8-sig', index=False)"
   ]
  },
  {
   "cell_type": "code",
   "execution_count": null,
   "id": "c6085f81",
   "metadata": {
    "ExecuteTime": {
     "start_time": "2024-03-23T13:43:02.673Z"
    }
   },
   "outputs": [],
   "source": [
    "# 검색어 리스트\n",
    "# 샘플로 강원 지역에 대한 이미지만 수집\n",
    "search_keywords = gangwon_df['title']\n",
    "\n",
    "\n",
    "print(len(search_keywords),\"\\n\")\n",
    "\n",
    "search_keywords"
   ]
  },
  {
   "cell_type": "code",
   "execution_count": null,
   "id": "5822b794",
   "metadata": {
    "ExecuteTime": {
     "start_time": "2024-03-23T13:43:02.674Z"
    },
    "scrolled": false
   },
   "outputs": [],
   "source": [
    "# 각 검색어에 대해 크롤링 수행\n",
    "for keyword in tqdm(search_keywords, desc='이미지 크롤링 진행 중'):\n",
    "    print('-'*100)\n",
    "    print(f\"{keyword} 수집시도\")\n",
    "    google_image_crawler(keyword, 'gangwon')"
   ]
  },
  {
   "cell_type": "markdown",
   "id": "47759479",
   "metadata": {},
   "source": [
    "## 충청북도"
   ]
  },
  {
   "cell_type": "code",
   "execution_count": null,
   "id": "f4dc0105",
   "metadata": {
    "ExecuteTime": {
     "start_time": "2024-03-23T13:43:02.674Z"
    },
    "scrolled": false
   },
   "outputs": [],
   "source": [
    "# null 값을 처리하여 'contains' 메서드 사용\n",
    "chungbuk_df = filtered_df[filtered_df['addr1'].str.contains(\"충청북도\", na=False)]\n",
    "chungbuk_df.info()"
   ]
  },
  {
   "cell_type": "code",
   "execution_count": null,
   "id": "62b7a8bc",
   "metadata": {
    "ExecuteTime": {
     "start_time": "2024-03-23T13:43:02.675Z"
    }
   },
   "outputs": [],
   "source": [
    "chungbuk_df.to_csv('chungbuk_db.csv',encoding='utf-8-sig', index=False)"
   ]
  },
  {
   "cell_type": "code",
   "execution_count": null,
   "id": "4f622b56",
   "metadata": {
    "ExecuteTime": {
     "start_time": "2024-03-23T13:43:02.676Z"
    }
   },
   "outputs": [],
   "source": [
    "# 검색어 리스트\n",
    "# 샘플로 충청북도 지역에 대한 이미지만 수집\n",
    "search_keywords = chungbuk_df['title']\n",
    "\n",
    "\n",
    "print(len(search_keywords),\"\\n\")\n",
    "\n",
    "search_keywords"
   ]
  },
  {
   "cell_type": "code",
   "execution_count": null,
   "id": "597bf5b6",
   "metadata": {
    "ExecuteTime": {
     "start_time": "2024-03-23T13:43:02.676Z"
    },
    "scrolled": false
   },
   "outputs": [],
   "source": [
    "# 각 검색어에 대해 크롤링 수행\n",
    "for keyword in tqdm(search_keywords, desc='이미지 크롤링 진행 중'):\n",
    "    print('-'*100)\n",
    "    print(f\"{keyword} 수집시도\")\n",
    "    google_image_crawler(keyword, 'chungbuk')"
   ]
  },
  {
   "cell_type": "markdown",
   "id": "57237b5d",
   "metadata": {},
   "source": [
    "## 충청남도"
   ]
  },
  {
   "cell_type": "code",
   "execution_count": null,
   "id": "e49ad118",
   "metadata": {
    "ExecuteTime": {
     "start_time": "2024-03-23T13:43:02.677Z"
    },
    "scrolled": false
   },
   "outputs": [],
   "source": [
    "# null 값을 처리하여 'contains' 메서드 사용\n",
    "chungnam_df = filtered_df[filtered_df['addr1'].str.contains(\"충청남도\", na=False)]\n",
    "chungnam_df.info()"
   ]
  },
  {
   "cell_type": "code",
   "execution_count": null,
   "id": "6666e8de",
   "metadata": {
    "ExecuteTime": {
     "start_time": "2024-03-23T13:43:02.678Z"
    }
   },
   "outputs": [],
   "source": [
    "chungnam_df.to_csv('chungnam_db.csv',encoding='utf-8-sig', index=False)"
   ]
  },
  {
   "cell_type": "code",
   "execution_count": null,
   "id": "4c49be0e",
   "metadata": {
    "ExecuteTime": {
     "start_time": "2024-03-23T13:43:02.679Z"
    }
   },
   "outputs": [],
   "source": [
    "# 검색어 리스트\n",
    "# 샘플로 충청남도 지역에 대한 이미지만 수집\n",
    "search_keywords = chungnam_df['title']\n",
    "\n",
    "\n",
    "print(len(search_keywords),\"\\n\")\n",
    "\n",
    "search_keywords"
   ]
  },
  {
   "cell_type": "code",
   "execution_count": null,
   "id": "939db3f9",
   "metadata": {
    "ExecuteTime": {
     "start_time": "2024-03-23T13:43:02.679Z"
    },
    "scrolled": false
   },
   "outputs": [],
   "source": [
    "# 각 검색어에 대해 크롤링 수행\n",
    "for keyword in tqdm(search_keywords, desc='이미지 크롤링 진행 중'):\n",
    "    print('-'*100)\n",
    "    print(f\"{keyword} 수집시도\")\n",
    "    google_image_crawler(keyword, 'chungnam')"
   ]
  },
  {
   "cell_type": "markdown",
   "id": "5c1d09e9",
   "metadata": {},
   "source": [
    "## 경상북도"
   ]
  },
  {
   "cell_type": "code",
   "execution_count": null,
   "id": "86f52adb",
   "metadata": {
    "ExecuteTime": {
     "start_time": "2024-03-23T13:43:02.680Z"
    },
    "scrolled": false
   },
   "outputs": [],
   "source": [
    "# null 값을 처리하여 'contains' 메서드 사용\n",
    "gyeongbuk_df = filtered_df[filtered_df['addr1'].str.contains(\"경상북도\", na=False)]\n",
    "gyeongbuk_df.info()"
   ]
  },
  {
   "cell_type": "code",
   "execution_count": null,
   "id": "a56ce71a",
   "metadata": {
    "ExecuteTime": {
     "start_time": "2024-03-23T13:43:02.681Z"
    }
   },
   "outputs": [],
   "source": [
    "gyeongbuk_df.to_csv('gyeongbuk_db.csv',encoding='utf-8-sig', index=False)"
   ]
  },
  {
   "cell_type": "code",
   "execution_count": null,
   "id": "82031f8d",
   "metadata": {
    "ExecuteTime": {
     "start_time": "2024-03-23T13:43:02.681Z"
    }
   },
   "outputs": [],
   "source": [
    "# 검색어 리스트\n",
    "# 샘플로 경상북도 지역에 대한 이미지만 수집\n",
    "search_keywords = gyeongbuk_df['title']\n",
    "\n",
    "\n",
    "print(len(search_keywords),\"\\n\")\n",
    "\n",
    "search_keywords"
   ]
  },
  {
   "cell_type": "code",
   "execution_count": null,
   "id": "8bd770f2",
   "metadata": {
    "ExecuteTime": {
     "start_time": "2024-03-23T14:01:35.959Z"
    },
    "scrolled": false
   },
   "outputs": [],
   "source": [
    "# 각 검색어에 대해 크롤링 수행\n",
    "for keyword in tqdm(search_keywords, desc='이미지 크롤링 진행 중'):\n",
    "    print('-'*100)\n",
    "    print(f\"{keyword} 수집시도\")\n",
    "    google_image_crawler(keyword, 'gyeongbuk')"
   ]
  },
  {
   "cell_type": "markdown",
   "id": "49e45497",
   "metadata": {},
   "source": [
    "## 경상남도"
   ]
  },
  {
   "cell_type": "code",
   "execution_count": null,
   "id": "e8272266",
   "metadata": {
    "ExecuteTime": {
     "start_time": "2024-03-23T13:43:02.682Z"
    },
    "scrolled": false
   },
   "outputs": [],
   "source": [
    "# null 값을 처리하여 'contains' 메서드 사용\n",
    "gyeongnam_df = filtered_df[filtered_df['addr1'].str.contains(\"경상남도\", na=False)]\n",
    "gyeongnam_df.info()"
   ]
  },
  {
   "cell_type": "code",
   "execution_count": null,
   "id": "f723dedc",
   "metadata": {
    "ExecuteTime": {
     "start_time": "2024-03-23T13:43:02.683Z"
    }
   },
   "outputs": [],
   "source": [
    "gyeongnam_df.to_csv('gyeongnam_db.csv',encoding='utf-8-sig', index=False)"
   ]
  },
  {
   "cell_type": "code",
   "execution_count": null,
   "id": "6ba1a413",
   "metadata": {
    "ExecuteTime": {
     "start_time": "2024-03-23T13:43:02.685Z"
    }
   },
   "outputs": [],
   "source": [
    "# 검색어 리스트\n",
    "# 샘플로 경상남도 지역에 대한 이미지만 수집\n",
    "search_keywords = gyeongnam_df['title']\n",
    "\n",
    "\n",
    "print(len(search_keywords),\"\\n\")\n",
    "\n",
    "search_keywords"
   ]
  },
  {
   "cell_type": "code",
   "execution_count": null,
   "id": "93ef1fe4",
   "metadata": {
    "ExecuteTime": {
     "start_time": "2024-03-23T13:43:02.686Z"
    },
    "scrolled": false
   },
   "outputs": [],
   "source": [
    "# 각 검색어에 대해 크롤링 수행\n",
    "for keyword in tqdm(search_keywords, desc='이미지 크롤링 진행 중'):\n",
    "    print('-'*100)\n",
    "    print(f\"{keyword} 수집시도\")\n",
    "    google_image_crawler(keyword, 'gyeongnam')"
   ]
  },
  {
   "cell_type": "markdown",
   "id": "b1551412",
   "metadata": {},
   "source": [
    "## 전라북도"
   ]
  },
  {
   "cell_type": "code",
   "execution_count": null,
   "id": "38a93255",
   "metadata": {
    "ExecuteTime": {
     "start_time": "2024-03-23T13:43:02.687Z"
    },
    "scrolled": false
   },
   "outputs": [],
   "source": [
    "# null 값을 처리하여 'contains' 메서드 사용\n",
    "jeonbuk_df = filtered_df[filtered_df['addr1'].str.contains(\"전북|전라북\", na=False)]\n",
    "jeonbuk_df.info()"
   ]
  },
  {
   "cell_type": "code",
   "execution_count": null,
   "id": "72f0fba7",
   "metadata": {
    "ExecuteTime": {
     "start_time": "2024-03-23T13:43:02.687Z"
    }
   },
   "outputs": [],
   "source": [
    "jeonbuk_df.to_csv('jeonbuk_db.csv',encoding='utf-8-sig', index=False)"
   ]
  },
  {
   "cell_type": "code",
   "execution_count": null,
   "id": "9d1f4d57",
   "metadata": {
    "ExecuteTime": {
     "start_time": "2024-03-23T13:43:02.688Z"
    }
   },
   "outputs": [],
   "source": [
    "# 검색어 리스트\n",
    "# 샘플로 경기 지역에 대한 이미지만 수집\n",
    "search_keywords = jeonbuk_df['title']\n",
    "\n",
    "\n",
    "print(len(search_keywords),\"\\n\")\n",
    "\n",
    "search_keywords"
   ]
  },
  {
   "cell_type": "code",
   "execution_count": null,
   "id": "d0e202fa",
   "metadata": {
    "ExecuteTime": {
     "start_time": "2024-03-23T13:43:02.689Z"
    },
    "scrolled": false
   },
   "outputs": [],
   "source": [
    "# 각 검색어에 대해 크롤링 수행\n",
    "for keyword in tqdm(search_keywords, desc='이미지 크롤링 진행 중'):\n",
    "    print('-'*100)\n",
    "    print(f\"{keyword} 수집시도\")\n",
    "    google_image_crawler(keyword, 'jeonbuk')"
   ]
  },
  {
   "cell_type": "markdown",
   "id": "7fe5d955",
   "metadata": {},
   "source": [
    "## 전라남도"
   ]
  },
  {
   "cell_type": "code",
   "execution_count": null,
   "id": "4cd4a33d",
   "metadata": {
    "ExecuteTime": {
     "start_time": "2024-03-23T13:43:02.690Z"
    },
    "scrolled": false
   },
   "outputs": [],
   "source": [
    "# null 값을 처리하여 'contains' 메서드 사용\n",
    "jeonnam_df = filtered_df[filtered_df['addr1'].str.contains(\"전남|전라남\", na=False)]\n",
    "jeonnam_df.info()"
   ]
  },
  {
   "cell_type": "code",
   "execution_count": null,
   "id": "8042808c",
   "metadata": {
    "ExecuteTime": {
     "start_time": "2024-03-23T13:43:02.691Z"
    }
   },
   "outputs": [],
   "source": [
    "jeonnam_df.to_csv('jeonnam_db.csv',encoding='utf-8-sig', index=False)"
   ]
  },
  {
   "cell_type": "code",
   "execution_count": null,
   "id": "e16d7f2c",
   "metadata": {
    "ExecuteTime": {
     "start_time": "2024-03-23T13:43:02.691Z"
    }
   },
   "outputs": [],
   "source": [
    "# 검색어 리스트\n",
    "# 샘플로 경기 지역에 대한 이미지만 수집\n",
    "search_keywords = jeonnam_df['title']\n",
    "\n",
    "\n",
    "print(len(search_keywords),\"\\n\")\n",
    "\n",
    "search_keywords"
   ]
  },
  {
   "cell_type": "code",
   "execution_count": null,
   "id": "1bb97b05",
   "metadata": {
    "ExecuteTime": {
     "start_time": "2024-03-23T13:43:02.692Z"
    },
    "scrolled": false
   },
   "outputs": [],
   "source": [
    "# 각 검색어에 대해 크롤링 수행\n",
    "for keyword in tqdm(search_keywords, desc='이미지 크롤링 진행 중'):\n",
    "    print('-'*100)\n",
    "    print(f\"{keyword} 수집시도\")\n",
    "    google_image_crawler(keyword, 'jeonnam')"
   ]
  },
  {
   "cell_type": "markdown",
   "id": "1afda7e6",
   "metadata": {},
   "source": [
    "## 서울특별시"
   ]
  },
  {
   "cell_type": "code",
   "execution_count": null,
   "id": "efffe0f5",
   "metadata": {
    "ExecuteTime": {
     "start_time": "2024-03-23T13:43:02.693Z"
    },
    "scrolled": false
   },
   "outputs": [],
   "source": [
    "# null 값을 처리하여 'contains' 메서드 사용\n",
    "seoul_df = filtered_df[filtered_df['addr1'].str.contains(\"서울\", na=False)]\n",
    "seoul_df.info()"
   ]
  },
  {
   "cell_type": "code",
   "execution_count": null,
   "id": "e6d277e4",
   "metadata": {
    "ExecuteTime": {
     "start_time": "2024-03-23T13:43:02.694Z"
    }
   },
   "outputs": [],
   "source": [
    "seoul_df.to_csv('seoul_db.csv',encoding='utf-8-sig', index=False)"
   ]
  },
  {
   "cell_type": "code",
   "execution_count": null,
   "id": "2efda54f",
   "metadata": {
    "ExecuteTime": {
     "start_time": "2024-03-23T13:43:02.694Z"
    }
   },
   "outputs": [],
   "source": [
    "# 검색어 리스트\n",
    "# 샘플로 서울 지역에 대한 이미지만 수집\n",
    "search_keywords = seoul_df['title']\n",
    "\n",
    "\n",
    "print(len(search_keywords),\"\\n\")\n",
    "\n",
    "search_keywords"
   ]
  },
  {
   "cell_type": "code",
   "execution_count": null,
   "id": "477657b4",
   "metadata": {
    "ExecuteTime": {
     "start_time": "2024-03-23T13:43:02.695Z"
    },
    "scrolled": false
   },
   "outputs": [],
   "source": [
    "# 각 검색어에 대해 크롤링 수행\n",
    "for keyword in tqdm(search_keywords, desc='이미지 크롤링 진행 중'):\n",
    "    print('-'*100)\n",
    "    print(f\"{keyword} 수집시도\")\n",
    "    google_image_crawler(keyword, 'seoul')"
   ]
  },
  {
   "cell_type": "markdown",
   "id": "c8ae3cc6",
   "metadata": {},
   "source": [
    "## 부산광역시"
   ]
  },
  {
   "cell_type": "code",
   "execution_count": null,
   "id": "553aedaf",
   "metadata": {
    "ExecuteTime": {
     "start_time": "2024-03-23T13:43:02.696Z"
    },
    "scrolled": false
   },
   "outputs": [],
   "source": [
    "# null 값을 처리하여 'contains' 메서드 사용\n",
    "busan_df = filtered_df[filtered_df['addr1'].str.contains(\"부산\", na=False)]\n",
    "busan_df.info()"
   ]
  },
  {
   "cell_type": "code",
   "execution_count": null,
   "id": "c50d401c",
   "metadata": {
    "ExecuteTime": {
     "start_time": "2024-03-23T13:43:02.696Z"
    }
   },
   "outputs": [],
   "source": [
    "busan_df.to_csv('busan_db.csv',encoding='utf-8-sig', index=False)"
   ]
  },
  {
   "cell_type": "code",
   "execution_count": null,
   "id": "f2213a9b",
   "metadata": {
    "ExecuteTime": {
     "start_time": "2024-03-23T13:43:02.697Z"
    }
   },
   "outputs": [],
   "source": [
    "# 검색어 리스트\n",
    "# 샘플로 부산 지역에 대한 이미지만 수집\n",
    "search_keywords = busan_df['title']\n",
    "\n",
    "\n",
    "print(len(search_keywords),\"\\n\")\n",
    "\n",
    "search_keywords"
   ]
  },
  {
   "cell_type": "code",
   "execution_count": null,
   "id": "31c6d243",
   "metadata": {
    "ExecuteTime": {
     "start_time": "2024-03-23T13:43:02.698Z"
    },
    "scrolled": false
   },
   "outputs": [],
   "source": [
    "# 각 검색어에 대해 크롤링 수행\n",
    "for keyword in tqdm(search_keywords, desc='이미지 크롤링 진행 중'):\n",
    "    print('-'*100)\n",
    "    print(f\"{keyword} 수집시도\")\n",
    "    google_image_crawler(keyword, 'busan')"
   ]
  },
  {
   "cell_type": "markdown",
   "id": "39f0f508",
   "metadata": {},
   "source": [
    "## 인천광역시"
   ]
  },
  {
   "cell_type": "code",
   "execution_count": null,
   "id": "ae152ccb",
   "metadata": {
    "ExecuteTime": {
     "start_time": "2024-03-23T13:43:02.699Z"
    },
    "scrolled": false
   },
   "outputs": [],
   "source": [
    "# null 값을 처리하여 'contains' 메서드 사용\n",
    "incheon_df = filtered_df[filtered_df['addr1'].str.contains(\"인천\", na=False)]\n",
    "incheon_df.info()"
   ]
  },
  {
   "cell_type": "code",
   "execution_count": null,
   "id": "76fafa07",
   "metadata": {
    "ExecuteTime": {
     "start_time": "2024-03-23T13:43:02.699Z"
    }
   },
   "outputs": [],
   "source": [
    "incheon_df.to_csv('incheon_db.csv',encoding='utf-8-sig', index=False)"
   ]
  },
  {
   "cell_type": "code",
   "execution_count": null,
   "id": "07f793a7",
   "metadata": {
    "ExecuteTime": {
     "start_time": "2024-03-23T13:43:02.700Z"
    }
   },
   "outputs": [],
   "source": [
    "# 검색어 리스트\n",
    "# 샘플로 인천 지역에 대한 이미지만 수집\n",
    "search_keywords = incheon_df['title']\n",
    "\n",
    "\n",
    "print(len(search_keywords),\"\\n\")\n",
    "\n",
    "search_keywords"
   ]
  },
  {
   "cell_type": "code",
   "execution_count": null,
   "id": "8d3dcc9a",
   "metadata": {
    "ExecuteTime": {
     "start_time": "2024-03-23T13:43:02.701Z"
    },
    "scrolled": false
   },
   "outputs": [],
   "source": [
    "# 각 검색어에 대해 크롤링 수행\n",
    "for keyword in tqdm(search_keywords, desc='이미지 크롤링 진행 중'):\n",
    "    print('-'*100)\n",
    "    print(f\"{keyword} 수집시도\")\n",
    "    google_image_crawler(keyword, 'incheon')"
   ]
  },
  {
   "cell_type": "markdown",
   "id": "14463e10",
   "metadata": {},
   "source": [
    "## 광주광역시"
   ]
  },
  {
   "cell_type": "code",
   "execution_count": null,
   "id": "37cbf4da",
   "metadata": {
    "ExecuteTime": {
     "start_time": "2024-03-23T13:43:02.702Z"
    },
    "scrolled": false
   },
   "outputs": [],
   "source": [
    "# null 값을 처리하여 'contains' 메서드 사용\n",
    "gwangju_df = filtered_df[filtered_df['addr1'].str.contains(\"광주광\", na=False)]\n",
    "gwangju_df.info()"
   ]
  },
  {
   "cell_type": "code",
   "execution_count": null,
   "id": "34c2f2b9",
   "metadata": {
    "ExecuteTime": {
     "start_time": "2024-03-23T13:43:02.702Z"
    }
   },
   "outputs": [],
   "source": [
    "gwangju_df.to_csv('gwangju_db.csv',encoding='utf-8-sig', index=False)"
   ]
  },
  {
   "cell_type": "code",
   "execution_count": null,
   "id": "6fdaacc1",
   "metadata": {
    "ExecuteTime": {
     "start_time": "2024-03-23T13:43:02.703Z"
    }
   },
   "outputs": [],
   "source": [
    "# 검색어 리스트\n",
    "# 샘플로 광주광 지역에 대한 이미지만 수집\n",
    "search_keywords = gwangju_df['title']\n",
    "\n",
    "\n",
    "print(len(search_keywords),\"\\n\")\n",
    "\n",
    "search_keywords"
   ]
  },
  {
   "cell_type": "code",
   "execution_count": null,
   "id": "1895230f",
   "metadata": {
    "ExecuteTime": {
     "start_time": "2024-03-23T13:43:02.704Z"
    },
    "scrolled": true
   },
   "outputs": [],
   "source": [
    "# 각 검색어에 대해 크롤링 수행\n",
    "for keyword in tqdm(search_keywords, desc='이미지 크롤링 진행 중'):\n",
    "    print('-'*100)\n",
    "    print(f\"{keyword} 수집시도\")\n",
    "    google_image_crawler(keyword, 'gwangju')"
   ]
  },
  {
   "cell_type": "markdown",
   "id": "1a9aa2bf",
   "metadata": {},
   "source": [
    "## 대전광역시"
   ]
  },
  {
   "cell_type": "code",
   "execution_count": null,
   "id": "755851cc",
   "metadata": {
    "ExecuteTime": {
     "start_time": "2024-03-23T13:43:02.705Z"
    },
    "scrolled": false
   },
   "outputs": [],
   "source": [
    "# null 값을 처리하여 'contains' 메서드 사용\n",
    "daejeon_df = filtered_df[filtered_df['addr1'].str.contains(\"대전\", na=False)]\n",
    "daejeon_df.info()"
   ]
  },
  {
   "cell_type": "code",
   "execution_count": null,
   "id": "bf8435b2",
   "metadata": {
    "ExecuteTime": {
     "start_time": "2024-03-23T13:43:02.706Z"
    }
   },
   "outputs": [],
   "source": [
    "daejeon_df.to_csv('daejeon_db.csv',encoding='utf-8-sig', index=False)"
   ]
  },
  {
   "cell_type": "code",
   "execution_count": null,
   "id": "7bbb5572",
   "metadata": {
    "ExecuteTime": {
     "start_time": "2024-03-23T13:43:02.706Z"
    }
   },
   "outputs": [],
   "source": [
    "# 검색어 리스트\n",
    "# 샘플로 대전 지역에 대한 이미지만 수집\n",
    "search_keywords = daejeon_df['title']\n",
    "\n",
    "\n",
    "print(len(search_keywords),\"\\n\")\n",
    "\n",
    "search_keywords"
   ]
  },
  {
   "cell_type": "code",
   "execution_count": null,
   "id": "58314713",
   "metadata": {
    "ExecuteTime": {
     "start_time": "2024-03-23T13:43:02.707Z"
    },
    "scrolled": false
   },
   "outputs": [],
   "source": [
    "# 각 검색어에 대해 크롤링 수행\n",
    "for keyword in tqdm(search_keywords, desc='이미지 크롤링 진행 중'):\n",
    "    print('-'*100)\n",
    "    print(f\"{keyword} 수집시도\")\n",
    "    google_image_crawler(keyword, 'daejeon')"
   ]
  },
  {
   "cell_type": "markdown",
   "id": "776fa3f0",
   "metadata": {},
   "source": [
    "## 울산광역시"
   ]
  },
  {
   "cell_type": "code",
   "execution_count": null,
   "id": "da50d52e",
   "metadata": {
    "ExecuteTime": {
     "start_time": "2024-03-23T13:43:02.708Z"
    },
    "scrolled": false
   },
   "outputs": [],
   "source": [
    "# null 값을 처리하여 'contains' 메서드 사용\n",
    "ulsan_df = filtered_df[filtered_df['addr1'].str.contains(\"울산\", na=False)]\n",
    "ulsan_df.info()"
   ]
  },
  {
   "cell_type": "code",
   "execution_count": null,
   "id": "1700ccc7",
   "metadata": {
    "ExecuteTime": {
     "start_time": "2024-03-23T13:43:02.708Z"
    }
   },
   "outputs": [],
   "source": [
    "ulsan_df.to_csv('ulsan_db.csv',encoding='utf-8-sig', index=False)"
   ]
  },
  {
   "cell_type": "code",
   "execution_count": null,
   "id": "70b8da1b",
   "metadata": {
    "ExecuteTime": {
     "start_time": "2024-03-23T13:43:02.709Z"
    }
   },
   "outputs": [],
   "source": [
    "# 검색어 리스트\n",
    "# 샘플로 경기 지역에 대한 이미지만 수집\n",
    "search_keywords = ulsan_df['title']\n",
    "\n",
    "\n",
    "print(len(search_keywords),\"\\n\")\n",
    "\n",
    "search_keywords"
   ]
  },
  {
   "cell_type": "code",
   "execution_count": null,
   "id": "4343a794",
   "metadata": {
    "ExecuteTime": {
     "start_time": "2024-03-23T13:43:02.710Z"
    },
    "scrolled": false
   },
   "outputs": [],
   "source": [
    "# 각 검색어에 대해 크롤링 수행\n",
    "for keyword in tqdm(search_keywords, desc='이미지 크롤링 진행 중'):\n",
    "    print('-'*100)\n",
    "    print(f\"{keyword} 수집시도\")\n",
    "    google_image_crawler(keyword, 'ulsan')"
   ]
  },
  {
   "cell_type": "markdown",
   "id": "e6cdf851",
   "metadata": {},
   "source": [
    "## 세종특별자치시"
   ]
  },
  {
   "cell_type": "code",
   "execution_count": null,
   "id": "8d3cf0b5",
   "metadata": {
    "ExecuteTime": {
     "start_time": "2024-03-23T13:43:02.711Z"
    },
    "scrolled": false
   },
   "outputs": [],
   "source": [
    "# null 값을 처리하여 'contains' 메서드 사용\n",
    "sejong_df = filtered_df[filtered_df['addr1'].str.contains(\"세종\", na=False)]\n",
    "sejong_df.info()"
   ]
  },
  {
   "cell_type": "code",
   "execution_count": null,
   "id": "55c04069",
   "metadata": {
    "ExecuteTime": {
     "start_time": "2024-03-23T13:43:02.711Z"
    }
   },
   "outputs": [],
   "source": [
    "sejong_df.to_csv('sejong_db.csv',encoding='utf-8-sig', index=False)"
   ]
  },
  {
   "cell_type": "code",
   "execution_count": null,
   "id": "657a4d8f",
   "metadata": {
    "ExecuteTime": {
     "start_time": "2024-03-23T13:43:02.712Z"
    }
   },
   "outputs": [],
   "source": [
    "# 검색어 리스트\n",
    "# 샘플로 경기 지역에 대한 이미지만 수집\n",
    "search_keywords = sejong_df['title']\n",
    "\n",
    "\n",
    "print(len(search_keywords),\"\\n\")\n",
    "\n",
    "search_keywords"
   ]
  },
  {
   "cell_type": "code",
   "execution_count": null,
   "id": "46d27635",
   "metadata": {
    "ExecuteTime": {
     "start_time": "2024-03-23T13:43:02.712Z"
    },
    "scrolled": false
   },
   "outputs": [],
   "source": [
    "# 각 검색어에 대해 크롤링 수행\n",
    "for keyword in tqdm(search_keywords, desc='이미지 크롤링 진행 중'):\n",
    "    print('-'*100)\n",
    "    print(f\"{keyword} 수집시도\")\n",
    "    google_image_crawler(keyword, 'sejong')"
   ]
  }
 ],
 "metadata": {
  "kernelspec": {
   "display_name": "Popol Env",
   "language": "python",
   "name": "popol_kernel"
  },
  "language_info": {
   "codemirror_mode": {
    "name": "ipython",
    "version": 3
   },
   "file_extension": ".py",
   "mimetype": "text/x-python",
   "name": "python",
   "nbconvert_exporter": "python",
   "pygments_lexer": "ipython3",
   "version": "3.8.18"
  },
  "toc": {
   "base_numbering": 1,
   "nav_menu": {},
   "number_sections": true,
   "sideBar": true,
   "skip_h1_title": false,
   "title_cell": "Table of Contents",
   "title_sidebar": "Contents",
   "toc_cell": false,
   "toc_position": {
    "height": "1454.55px",
    "left": "21px",
    "top": "389.148px",
    "width": "310.398px"
   },
   "toc_section_display": true,
   "toc_window_display": false
  },
  "varInspector": {
   "cols": {
    "lenName": 16,
    "lenType": 16,
    "lenVar": 40
   },
   "kernels_config": {
    "python": {
     "delete_cmd_postfix": "",
     "delete_cmd_prefix": "del ",
     "library": "var_list.py",
     "varRefreshCmd": "print(var_dic_list())"
    },
    "r": {
     "delete_cmd_postfix": ") ",
     "delete_cmd_prefix": "rm(",
     "library": "var_list.r",
     "varRefreshCmd": "cat(var_dic_list()) "
    }
   },
   "types_to_exclude": [
    "module",
    "function",
    "builtin_function_or_method",
    "instance",
    "_Feature"
   ],
   "window_display": false
  }
 },
 "nbformat": 4,
 "nbformat_minor": 5
}
