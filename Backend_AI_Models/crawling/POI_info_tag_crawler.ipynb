{
 "cells": [
  {
   "cell_type": "markdown",
   "id": "cd9481c6",
   "metadata": {},
   "source": [
    "# 📌Intro.\n",
    "\n",
    "- 관광 메타데이터의 추가 데이터 수집을 위한 웹 크롤링 진행\n",
    "- 관광지별 Description과 키워드(Tag) 정보를 수집\n",
    "- 각 지역별로 관광지명을 검색하여 Descripion과 Tag를 수집\n",
    "    - Description\n",
    "        - 1차로 구글맵에서 데이터를 수집(Description) 하고 실패시 네이버 지식백과 활용\n",
    "        - 네이버 지식백과의 '대한민국 구석구석' 이 한국관광공사와 동일한 데이터이기 때문\n",
    "        - 한국관광공사의 데이터는 1일 1,000건 API 호출 제한이 있어 전체 데이터를 프로젝트 기한내에 수집이 어려워 우회 방법 사용\n",
    "    - Tag\n",
    "        - 카카오맵의 장소별 'Tag' 데이터를 수집"
   ]
  },
  {
   "cell_type": "markdown",
   "id": "dd6e8586",
   "metadata": {},
   "source": [
    "## 크롤링 함수 생성"
   ]
  },
  {
   "cell_type": "code",
   "execution_count": null,
   "id": "f7b7d52f",
   "metadata": {
    "ExecuteTime": {
     "end_time": "2024-04-02T09:20:19.646813Z",
     "start_time": "2024-04-02T09:20:19.288447Z"
    }
   },
   "outputs": [],
   "source": [
    "import pandas as pd\n",
    "from selenium import webdriver\n",
    "from selenium.webdriver.common.by import By\n",
    "from selenium.webdriver.support.ui import WebDriverWait\n",
    "from selenium.webdriver.support import expected_conditions as EC\n",
    "from fake_useragent import UserAgent\n",
    "import chromedriver_autoinstaller\n",
    "from selenium.webdriver.chrome.service import Service\n",
    "import edgedriver_autoinstaller\n",
    "from selenium.webdriver.common.keys import Keys\n",
    "import time\n",
    "import re\n",
    "\n",
    "\n",
    "def crawler(keyword):\n",
    "    # 웹 브라우징 시 사용되는 User-Agent를 랜덤으로 생성하는 라이브러리\n",
    "    ua = UserAgent()\n",
    "    user_agent = ua.random\n",
    "\n",
    "    # Chrome 웹 브라우저 옵션 설정\n",
    "    options = webdriver.ChromeOptions()\n",
    "    options.add_argument('--no-sandbox')  # 보안 기능 비활성화\n",
    "    options.add_argument('--disable-dev-shm-usage')  # 메모리 사용 최적화\n",
    "    options.add_argument(f'user-agent={user_agent}')  # fake 봇 만들기\n",
    "    options.add_argument('--headless')  # 창없는 모드로 실행\n",
    "\n",
    "    # 로컬에 설치된 Chrome 브라우저의 버전을 확인\n",
    "    chrome_ver = chromedriver_autoinstaller.get_chrome_version().split('.')[0]\n",
    "\n",
    "    try:\n",
    "        # Chrome 브라우저 드라이버 초기화\n",
    "        service = Service(f'./{chrome_ver}/chromedriver.exe')\n",
    "        driver = webdriver.Chrome(service=service, options=options)\n",
    "    except:\n",
    "        try:\n",
    "            # ChromeDriver 자동 설치 및 초기화\n",
    "            chromedriver_autoinstaller.install(True)\n",
    "            service = Service(f'./{chrome_ver}/chromedriver.exe')\n",
    "            driver = webdriver.Chrome(service=service, options=options)\n",
    "        except:\n",
    "            # Edge 브라우저 드라이버 초기화\n",
    "            edgedriver_autoinstaller.install()  # EdgeDriver 자동 설치\n",
    "            driver = webdriver.Edge()  # EdgeDriver의 경로를 따로 지정하지 않음\n",
    "    \n",
    "    # 입력키워드 전처리\n",
    "    pattern = r'\\(.*\\)'  # 괄호 안의 텍스트를 찾는 정규표현식 패턴\n",
    "    re_keyword = re.sub(pattern, '', keyword)\n",
    "    re_keyword = re_keyword.strip()  # 전처리 후 앞뒤 공백 제거\n",
    "    \n",
    "\n",
    "    # 구글 지도에서 개요 정보 수집 시도\n",
    "    #print(f\"구글 지도에서 '{keyword}'에 대한 개요 정보 수집을 시작합니다.\")\n",
    "    driver.get('https://www.google.co.kr/maps/?hl=ko&entry=ttu')\n",
    "    search_box = WebDriverWait(driver, 1).until(EC.presence_of_element_located((By.CSS_SELECTOR, '#searchboxinput')))\n",
    "    search_box.send_keys(re_keyword)\n",
    "    search_box.send_keys(Keys.RETURN)\n",
    "    #timesleep(1)  # 1초 대기\n",
    "\n",
    "    try:\n",
    "        overview_tab = WebDriverWait(driver, 1).until(EC.presence_of_element_located((By.CSS_SELECTOR, '#QA0Szd > div > div > div.w6VYqd > div:nth-child(2) > div > div.e07Vkf.kA9KIf > div > div > div:nth-child(3) > div > div > button.hh2c6.G7m0Af > div.LRkQ2 > div.Gpq6kf.fontTitleSmall')))\n",
    "        overview_tab.click()\n",
    "        overview_text = WebDriverWait(driver, 1).until(EC.presence_of_element_located((By.CSS_SELECTOR, '#QA0Szd > div > div > div.w6VYqd > div:nth-child(2) > div > div.e07Vkf.kA9KIf > div > div > div.y0K5Df > div > div.WeS02d.fontBodyMedium > div > div'))).text\n",
    "        overview_result = \"수집성공\"\n",
    "        #print(f\"구글 지도에서 '{keyword}'에 대한 개요 정보를 수집했습니다.\")\n",
    "    except:\n",
    "        #print(f\"구글 지도에서 '{keyword}'에 대한 개요 정보 수집에 실패했습니다. 네이버 지식백과로 이동합니다.\")\n",
    "        overview_text = \"\"\n",
    "        overview_result = \"수집실패\"\n",
    "\n",
    "    # 네이버 지식백과에서 개요 정보 수집 시도\n",
    "    if overview_result == \"수집실패\":\n",
    "        #print(f\"네이버 지식백과에서 '{keyword}'에 대한 개요 정보 수집을 시작합니다.\")\n",
    "        driver.get('https://terms.naver.com/')\n",
    "        ##timesleep(1)  # 1초 대기\n",
    "        search_box = WebDriverWait(driver, 1).until(EC.presence_of_element_located((By.CSS_SELECTOR, '#term_query')))\n",
    "        search_box.send_keys(keyword)\n",
    "        search_box.send_keys(Keys.RETURN)\n",
    "        #timesleep(1)  # 1초 대기\n",
    "\n",
    "        try:\n",
    "            target_dictionary = \"대한민국 구석구석\"\n",
    "            target_url = None\n",
    "\n",
    "            for i in range(2, 6):  # 검색 결과 2번째부터 5번째까지 확인\n",
    "                try:\n",
    "                    result = WebDriverWait(driver, 1).until(EC.presence_of_element_located((By.CSS_SELECTOR, f'#content > div:nth-child({i}) > ul > li > div.info_area > div.subject > span > a')))\n",
    "                    if target_dictionary in result.text:\n",
    "                        target_url = WebDriverWait(driver, 1).until(EC.presence_of_element_located((By.CSS_SELECTOR, f'#content > div:nth-child({i}) > ul > li > div.info_area > div.subject > strong > a'))).get_attribute('href')\n",
    "                        break\n",
    "                except:\n",
    "                    continue\n",
    "\n",
    "            if target_url:\n",
    "                driver.get(target_url)\n",
    "                #timesleep(1)  # 1초 대기\n",
    "                overview_text = WebDriverWait(driver, 1).until(EC.presence_of_element_located((By.CSS_SELECTOR, '#size_ct > p'))).text\n",
    "                overview_result = \"수집성공\"\n",
    "                #print(f\"네이버 지식백과에서 '{keyword}'에 대한 개요 정보를 수집했습니다.\")\n",
    "            else:\n",
    "                #print(f\"네이버 지식백과에서 '{keyword}'에 대한 '대한민국 구석구석' 정보를 찾지 못했습니다.\")\n",
    "                overview_text = \"\"\n",
    "                overview_result = \"수집실패\"\n",
    "\n",
    "        except:\n",
    "            #print(f\"네이버 지식백과에서 '{keyword}'에 대한 개요 정보 수집에 실패했습니다.\")\n",
    "            overview_text = \"\"\n",
    "            overview_result = \"수집실패\"\n",
    "\n",
    "    # 카카오맵에서 태그 정보 수집 시도\n",
    "    # 카카오맵에서 태그 정보 수집 시도\n",
    "    #print(f\"카카오맵에서 '{keyword}'에 대한 태그 정보 수집을 시작합니다.\")\n",
    "    driver.get('https://map.kakao.com/?nil_profile=title&nil_src=local')\n",
    "    #time.sleep(1)  # 1초 대기\n",
    "    search_box = WebDriverWait(driver, 1).until(EC.presence_of_element_located((By.CSS_SELECTOR, '#search\\.keyword\\.query')))\n",
    "    search_box.send_keys(keyword)\n",
    "    search_box.send_keys(Keys.RETURN)  # 엔터 버튼 누르기\n",
    "    #print(\"검색어 입력 및 검색 완료\")\n",
    "    #time.sleep(2)  # 2초 대기\n",
    "\n",
    "    try:\n",
    "        search_result = WebDriverWait(driver, 1).until(EC.presence_of_element_located((By.CSS_SELECTOR, '#info\\.search\\.place\\.list > li:nth-child(1)')))\n",
    "        #print(\"검색 결과 찾음\")\n",
    "\n",
    "        try:\n",
    "            moreview_button = search_result.find_element(By.CSS_SELECTOR, 'div.info_item > div.contact.clickArea > a.moreview')\n",
    "            #print(\"상세보기 버튼 찾음\")\n",
    "\n",
    "            # 버튼이 클릭 가능한 상태가 될 때까지 최대 10초 동안 기다림\n",
    "            WebDriverWait(driver, 1).until(EC.element_to_be_clickable((By.CSS_SELECTOR, 'div.info_item > div.contact.clickArea > a.moreview')))\n",
    "\n",
    "            # JavaScript를 사용하여 버튼 클릭\n",
    "            driver.execute_script(\"arguments[0].click();\", moreview_button)\n",
    "            #print(\"상세보기 버튼 클릭\")\n",
    "            #time.sleep(2)  # 2초 대기\n",
    "\n",
    "            driver.switch_to.window(driver.window_handles[-1])\n",
    "            #print(\"새로운 탭으로 전환\")\n",
    "\n",
    "            try:\n",
    "                tag_container = WebDriverWait(driver, 1).until(EC.presence_of_element_located((By.CSS_SELECTOR, '#mArticle > div.cont_essential > div.details_placeinfo > div:nth-child(4) > div')))\n",
    "                #print(\"태그 컨테이너 찾음\")\n",
    "            except:\n",
    "                tag_container = WebDriverWait(driver, 1).until(EC.presence_of_element_located((By.CSS_SELECTOR, '#mArticle > div.cont_essential > div.details_placeinfo > div:nth-child(3) > div')))\n",
    "                #print(\"대체 태그 컨테이너 찾음\")\n",
    "\n",
    "            try:\n",
    "                tags = tag_container.find_elements(By.CSS_SELECTOR, 'div > span > a')\n",
    "                #print(f\"{len(tags)}개의 태그 찾음\")\n",
    "                tag_text = ', '.join([tag.text for tag in tags])\n",
    "                tag_result = \"수집성공\"\n",
    "                #print(f\"카카오맵에서 '{keyword}'에 대한 태그 정보를 수집했습니다.\")\n",
    "            except:\n",
    "                #print(\"태그를 찾지 못함\")\n",
    "                raise\n",
    "        except:\n",
    "            #print(\"상세보기 버튼을 찾지 못함\")\n",
    "            raise\n",
    "    except:\n",
    "        #print(f\"카카오맵에서 '{keyword}'에 대한 태그 정보 수집에 실패했습니다.\")\n",
    "        tag_text = \"\"\n",
    "        tag_result = \"수집실패\"\n",
    "\n",
    "    # 데이터프레임 생성 및 저장\n",
    "    data = {\n",
    "        'title': [keyword],\n",
    "        'overview': [overview_text],\n",
    "        'tag': [tag_text],\n",
    "        'overview_result': [overview_result],\n",
    "        'tag_result': [tag_result]\n",
    "    }\n",
    "    df = pd.DataFrame(data)\n",
    "    #display(df)\n",
    "\n",
    "    driver.quit()\n",
    "    #print(\"크롤링이 완료되었습니다.\")\n",
    "    return df"
   ]
  },
  {
   "cell_type": "markdown",
   "id": "df0597f3",
   "metadata": {},
   "source": [
    "### 함수 테스트"
   ]
  },
  {
   "cell_type": "code",
   "execution_count": null,
   "id": "bd396939",
   "metadata": {
    "ExecuteTime": {
     "end_time": "2024-03-30T17:54:25.237774Z",
     "start_time": "2024-03-30T17:54:08.600885Z"
    }
   },
   "outputs": [],
   "source": [
    "keyword = '롯데월드'\n",
    "crawler(keyword)"
   ]
  },
  {
   "cell_type": "markdown",
   "id": "431087b2",
   "metadata": {},
   "source": [
    "## 실행 코드\n",
    "\n",
    "- 일괄 수집하는 경우 약 2.2만개로 매우 오랜 시간이 걸림\n",
    "- 지역별로 분산하여 수집하면 속도가 다소 빨라짐\n",
    "- 이를 위해 코드를 함수화 해서 파일별로 수집\n",
    "- 작업이 중단 & 재개 되는 것을 고려해 이어서 작업할 경우 기 수집된 데이터에 이어서 수집할 수 있도록 코드 작성"
   ]
  },
  {
   "cell_type": "code",
   "execution_count": null,
   "id": "f3634792",
   "metadata": {
    "ExecuteTime": {
     "end_time": "2024-04-02T09:20:19.706933Z",
     "start_time": "2024-04-02T09:20:19.647813Z"
    }
   },
   "outputs": [],
   "source": [
    "import os\n",
    "import gc\n",
    "import pandas as pd\n",
    "from tqdm.notebook import tqdm\n",
    "\n",
    "def crawl_and_save_data(filename_prefix):\n",
    "    # 크롤링을 시작할 CSV 파일 경로\n",
    "    csv_path = f'../data/tour_api/{filename_prefix}_filtered_info.csv'\n",
    "    \n",
    "    # 크롤링 결과를 저장할 CSV 파일 경로와 파일명\n",
    "    output_csv_path = f'../data/tour_api/{filename_prefix}_attraction_overview.csv'\n",
    "    temp_csv_path = f'../data/tour_api/{filename_prefix}_temp_result.csv'  # 중간 결과를 저장할 임시 파일 경로\n",
    "    \n",
    "    # CSV 파일 읽어오기\n",
    "    df = pd.read_csv(csv_path, encoding='utf-8-sig')\n",
    "    \n",
    "    # 크롤링 결과를 저장할 데이터프레임 초기화\n",
    "    if os.path.exists(temp_csv_path):\n",
    "        result_df = pd.read_csv(temp_csv_path, encoding='utf-8-sig')\n",
    "        searched_titles = result_df['title'].tolist()\n",
    "        print(f\"임시 파일에서 {len(searched_titles)}개의 데이터를 불러왔습니다.\")\n",
    "    else:\n",
    "        result_df = pd.DataFrame(columns=['title', 'overview', 'tag', '수집시도결과'])\n",
    "        searched_titles = []\n",
    "        print(\"새로운 임시 파일을 생성합니다.\")\n",
    "    \n",
    "    # 크롤링 함수를 적용하여 데이터 수집\n",
    "    start_index = len(searched_titles)\n",
    "    for index, row in tqdm(df.iloc[start_index:].iterrows(), total=len(df) - start_index, desc='크롤링 진행률'):\n",
    "        title = row['title']\n",
    "        crawled_df = crawler(title)\n",
    "        \n",
    "        # 크롤링 결과를 데이터프레임에 추가\n",
    "        result_df = pd.concat([result_df, crawled_df], ignore_index=True)\n",
    "        \n",
    "        # 검색한 키워드를 searched_titles 리스트에 추가\n",
    "        searched_titles.append(title)\n",
    "        \n",
    "        # 메모리 관리를 위해 주기적으로 가비지 컬렉션 수행\n",
    "        if (index - start_index + 1) % 10 == 0:\n",
    "            gc.collect()\n",
    "        \n",
    "        # 10개 단위로 중간 결과 파일 업데이트\n",
    "        if (index - start_index + 1) % 10 == 0 or index == len(df) - 1:\n",
    "            result_df.to_csv(temp_csv_path, index=False, encoding='utf-8-sig')\n",
    "    \n",
    "    # 최종 결과 파일로 저장\n",
    "    result_df.to_csv(output_csv_path, index=False, encoding='utf-8-sig')\n",
    "    \n",
    "    # 가장 최근에 저장된 파일의 데이터 개수 출력\n",
    "    if os.path.exists(output_csv_path):\n",
    "        saved_df = pd.read_csv(output_csv_path, encoding='utf-8-sig')\n",
    "        print(f\"최종적으로 {len(saved_df)}개의 데이터가 {output_csv_path}에 저장되었습니다.\")\n",
    "    else:\n",
    "        print(\"저장된 데이터가 없습니다.\")\n",
    "    \n",
    "    print(\"크롤링이 완료되었습니다.\")"
   ]
  },
  {
   "cell_type": "markdown",
   "id": "37a2fd17",
   "metadata": {},
   "source": [
    "### 제주지역"
   ]
  },
  {
   "cell_type": "code",
   "execution_count": null,
   "id": "5932c348",
   "metadata": {
    "ExecuteTime": {
     "end_time": "2024-04-02T09:20:21.859148Z",
     "start_time": "2024-04-02T09:20:21.766017Z"
    }
   },
   "outputs": [],
   "source": [
    "# 각 데이터프레임에 대해 함수 호출\n",
    "crawl_and_save_data('jeju')"
   ]
  },
  {
   "cell_type": "markdown",
   "id": "159f4460",
   "metadata": {},
   "source": [
    "### 경기지역"
   ]
  },
  {
   "cell_type": "code",
   "execution_count": null,
   "id": "998fb8ef",
   "metadata": {
    "ExecuteTime": {
     "end_time": "2024-04-02T09:20:24.703911Z",
     "start_time": "2024-04-02T09:20:24.560133Z"
    }
   },
   "outputs": [],
   "source": [
    "crawl_and_save_data('gyeonggi')"
   ]
  },
  {
   "cell_type": "markdown",
   "id": "38f9c976",
   "metadata": {},
   "source": [
    "### 강원 지역"
   ]
  },
  {
   "cell_type": "code",
   "execution_count": null,
   "id": "bc6d97b9",
   "metadata": {
    "ExecuteTime": {
     "end_time": "2024-04-02T09:20:27.138122Z",
     "start_time": "2024-04-02T09:20:27.010047Z"
    }
   },
   "outputs": [],
   "source": [
    "crawl_and_save_data('gangwon')"
   ]
  },
  {
   "cell_type": "markdown",
   "id": "182d9641",
   "metadata": {},
   "source": [
    "### 충북지역"
   ]
  },
  {
   "cell_type": "code",
   "execution_count": null,
   "id": "5e6e2d1b",
   "metadata": {
    "ExecuteTime": {
     "end_time": "2024-04-02T09:20:28.983432Z",
     "start_time": "2024-04-02T09:20:28.882550Z"
    }
   },
   "outputs": [],
   "source": [
    "crawl_and_save_data('chungbuk')"
   ]
  },
  {
   "cell_type": "markdown",
   "id": "705e44be",
   "metadata": {},
   "source": [
    "### 충남지역"
   ]
  },
  {
   "cell_type": "code",
   "execution_count": null,
   "id": "fe74a81d",
   "metadata": {
    "ExecuteTime": {
     "end_time": "2024-04-02T14:44:37.700069Z",
     "start_time": "2024-04-02T09:20:29.998861Z"
    }
   },
   "outputs": [],
   "source": [
    "crawl_and_save_data('chungnam')"
   ]
  },
  {
   "cell_type": "markdown",
   "id": "8f42ea2b",
   "metadata": {},
   "source": [
    "### 경북지역"
   ]
  },
  {
   "cell_type": "code",
   "execution_count": null,
   "id": "08a6840b",
   "metadata": {
    "ExecuteTime": {
     "end_time": "2024-04-02T22:22:59.487798Z",
     "start_time": "2024-04-02T14:55:52.625586Z"
    }
   },
   "outputs": [],
   "source": [
    "crawl_and_save_data('gyeongbuk')"
   ]
  },
  {
   "cell_type": "markdown",
   "id": "ee8b1bac",
   "metadata": {},
   "source": [
    "### 경남지역"
   ]
  },
  {
   "cell_type": "code",
   "execution_count": null,
   "id": "2ad13a68",
   "metadata": {
    "ExecuteTime": {
     "end_time": "2024-04-03T07:02:58.981183Z",
     "start_time": "2024-04-03T06:28:31.452044Z"
    }
   },
   "outputs": [],
   "source": [
    "crawl_and_save_data('gyeongnam')"
   ]
  },
  {
   "cell_type": "markdown",
   "id": "b1d3bb1c",
   "metadata": {},
   "source": [
    "### 전북지역"
   ]
  },
  {
   "cell_type": "code",
   "execution_count": null,
   "id": "1f91b8fa",
   "metadata": {
    "ExecuteTime": {
     "end_time": "2024-04-03T12:40:18.980416Z",
     "start_time": "2024-04-03T07:08:48.182894Z"
    }
   },
   "outputs": [],
   "source": [
    "crawl_and_save_data('jeonbuk')"
   ]
  },
  {
   "cell_type": "markdown",
   "id": "2ca45d02",
   "metadata": {},
   "source": [
    "### 전남지역"
   ]
  },
  {
   "cell_type": "code",
   "execution_count": null,
   "id": "80ed68e5",
   "metadata": {
    "ExecuteTime": {
     "end_time": "2024-04-03T18:11:15.855876Z",
     "start_time": "2024-04-03T13:03:46.768068Z"
    }
   },
   "outputs": [],
   "source": [
    "crawl_and_save_data('jeonnam')"
   ]
  },
  {
   "cell_type": "markdown",
   "id": "e495095b",
   "metadata": {},
   "source": [
    "### 서울지역"
   ]
  },
  {
   "cell_type": "code",
   "execution_count": null,
   "id": "bd87790e",
   "metadata": {
    "ExecuteTime": {
     "end_time": "2024-04-03T18:11:15.857875Z",
     "start_time": "2024-04-03T18:11:15.857875Z"
    }
   },
   "outputs": [],
   "source": [
    "crawl_and_save_data('seoul')"
   ]
  },
  {
   "cell_type": "markdown",
   "id": "848af5b6",
   "metadata": {},
   "source": [
    "### 부산지역"
   ]
  },
  {
   "cell_type": "code",
   "execution_count": null,
   "id": "d579c097",
   "metadata": {},
   "outputs": [],
   "source": [
    "crawl_and_save_data('busan')"
   ]
  },
  {
   "cell_type": "markdown",
   "id": "8eaa897f",
   "metadata": {},
   "source": [
    "### 인천지역"
   ]
  },
  {
   "cell_type": "code",
   "execution_count": null,
   "id": "06a6541a",
   "metadata": {},
   "outputs": [],
   "source": [
    "crawl_and_save_data('incheon')"
   ]
  },
  {
   "cell_type": "markdown",
   "id": "a3591d26",
   "metadata": {},
   "source": [
    "### 광주광역시 지역"
   ]
  },
  {
   "cell_type": "code",
   "execution_count": null,
   "id": "66ed1698",
   "metadata": {},
   "outputs": [],
   "source": [
    "crawl_and_save_data('gwangju')"
   ]
  },
  {
   "cell_type": "markdown",
   "id": "5a733762",
   "metadata": {},
   "source": [
    "### 대전지역"
   ]
  },
  {
   "cell_type": "code",
   "execution_count": null,
   "id": "c40bde0f",
   "metadata": {},
   "outputs": [],
   "source": [
    "crawl_and_save_data('daejeon')"
   ]
  },
  {
   "cell_type": "markdown",
   "id": "a4c54e15",
   "metadata": {},
   "source": [
    "### 울산지역"
   ]
  },
  {
   "cell_type": "code",
   "execution_count": null,
   "id": "387a777b",
   "metadata": {},
   "outputs": [],
   "source": [
    "crawl_and_save_data('ulsan')"
   ]
  },
  {
   "cell_type": "markdown",
   "id": "34e0767d",
   "metadata": {},
   "source": [
    "### 세종 지역"
   ]
  },
  {
   "cell_type": "code",
   "execution_count": null,
   "id": "29418602",
   "metadata": {},
   "outputs": [],
   "source": [
    "crawl_and_save_data('sejong')"
   ]
  }
 ],
 "metadata": {
  "kernelspec": {
   "display_name": "Popol Env",
   "language": "python",
   "name": "popol_kernel"
  },
  "language_info": {
   "codemirror_mode": {
    "name": "ipython",
    "version": 3
   },
   "file_extension": ".py",
   "mimetype": "text/x-python",
   "name": "python",
   "nbconvert_exporter": "python",
   "pygments_lexer": "ipython3",
   "version": "3.8.18"
  },
  "toc": {
   "base_numbering": 1,
   "nav_menu": {},
   "number_sections": true,
   "sideBar": true,
   "skip_h1_title": false,
   "title_cell": "Table of Contents",
   "title_sidebar": "Contents",
   "toc_cell": false,
   "toc_position": {
    "height": "690px",
    "left": "29px",
    "top": "240.156px",
    "width": "297.263px"
   },
   "toc_section_display": true,
   "toc_window_display": true
  },
  "varInspector": {
   "cols": {
    "lenName": 16,
    "lenType": 16,
    "lenVar": 40
   },
   "kernels_config": {
    "python": {
     "delete_cmd_postfix": "",
     "delete_cmd_prefix": "del ",
     "library": "var_list.py",
     "varRefreshCmd": "print(var_dic_list())"
    },
    "r": {
     "delete_cmd_postfix": ") ",
     "delete_cmd_prefix": "rm(",
     "library": "var_list.r",
     "varRefreshCmd": "cat(var_dic_list()) "
    }
   },
   "types_to_exclude": [
    "module",
    "function",
    "builtin_function_or_method",
    "instance",
    "_Feature"
   ],
   "window_display": false
  }
 },
 "nbformat": 4,
 "nbformat_minor": 5
}
